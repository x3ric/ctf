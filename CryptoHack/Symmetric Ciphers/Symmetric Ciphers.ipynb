{
 "cells": [
  {
   "cell_type": "markdown",
   "id": "49aaf9d2",
   "metadata": {},
   "source": [
    "# How AES Works"
   ]
  },
  {
   "cell_type": "markdown",
   "id": "b169e285",
   "metadata": {},
   "source": [
    "### Keyed Permutations"
   ]
  },
  {
   "cell_type": "markdown",
   "id": "df4dfc30",
   "metadata": {},
   "source": [
    "crypto{bijection}"
   ]
  },
  {
   "cell_type": "markdown",
   "id": "66dff2a4",
   "metadata": {},
   "source": [
    "### Resisting Bruteforce"
   ]
  },
  {
   "cell_type": "markdown",
   "id": "b166a155",
   "metadata": {},
   "source": [
    "crypto{biclique}"
   ]
  },
  {
   "cell_type": "markdown",
   "id": "f6dee461",
   "metadata": {},
   "source": [
    "### Structure of AES"
   ]
  },
  {
   "cell_type": "code",
   "execution_count": 3,
   "id": "b1d325d2",
   "metadata": {},
   "outputs": [
    {
     "name": "stdout",
     "output_type": "stream",
     "text": [
      "crypto{inmatrix}\n"
     ]
    }
   ],
   "source": [
    "def bytes2matrix(text):\n",
    "    return [list(text[i:i+4]) for i in range(0, len(text), 4)]\n",
    "\n",
    "def matrix2bytes(matrix):\n",
    "    return bytes(sum(matrix, []))\n",
    "\n",
    "matrix = [\n",
    "    [99, 114, 121, 112],\n",
    "    [116, 111, 123, 105],\n",
    "    [110, 109, 97, 116],\n",
    "    [114, 105, 120, 125],\n",
    "]\n",
    "print(matrix2bytes(matrix).decode())"
   ]
  },
  {
   "cell_type": "markdown",
   "id": "24701539",
   "metadata": {},
   "source": [
    "### Round Keys"
   ]
  },
  {
   "cell_type": "code",
   "execution_count": 5,
   "id": "41730a18",
   "metadata": {},
   "outputs": [
    {
     "name": "stdout",
     "output_type": "stream",
     "text": [
      "crypto{r0undk3y}\n"
     ]
    }
   ],
   "source": [
    "def add_round_key(state, round_key):\n",
    "    result = []\n",
    "    for i in range(len(state)):\n",
    "        row = []\n",
    "        for j in range(len(state[0])):\n",
    "            row.append(state[i][j] ^ round_key[i][j])\n",
    "        result.append(row)\n",
    "    return result\n",
    "\n",
    "def matrix2bytes(matrix):\n",
    "    return bytes(sum(matrix, []))\n",
    "\n",
    "state = [\n",
    "    [206, 243, 61, 34],\n",
    "    [171, 11, 93, 31],\n",
    "    [16, 200, 91, 108],\n",
    "    [150, 3, 194, 51],\n",
    "]\n",
    "round_key = [\n",
    "    [173, 129, 68, 82],\n",
    "    [223, 100, 38, 109],\n",
    "    [32, 189, 53, 8],\n",
    "    [253, 48, 187, 78],\n",
    "]\n",
    "\n",
    "result = add_round_key(state, round_key)\n",
    "flag = matrix2bytes(result)\n",
    "print(flag.decode())"
   ]
  },
  {
   "cell_type": "markdown",
   "id": "1ce40271",
   "metadata": {},
   "source": [
    "### Confusion through Substitution"
   ]
  },
  {
   "cell_type": "code",
   "execution_count": 7,
   "id": "ddc78670",
   "metadata": {},
   "outputs": [
    {
     "name": "stdout",
     "output_type": "stream",
     "text": [
      "crypto{l1n34rly}\n"
     ]
    }
   ],
   "source": [
    "def matrix2bytes(matrix):\n",
    "   return bytes(sum(matrix, []))\n",
    "\n",
    "def sub_bytes(state, sbox):\n",
    "   result = []\n",
    "   for i in range(len(state)):\n",
    "       row = []\n",
    "       for j in range(len(state[0])):\n",
    "           row.append(sbox[state[i][j]])\n",
    "       result.append(row)\n",
    "   return result\n",
    "\n",
    "s_box = (\n",
    "   0x63, 0x7C, 0x77, 0x7B, 0xF2, 0x6B, 0x6F, 0xC5, 0x30, 0x01, 0x67, 0x2B, 0xFE, 0xD7, 0xAB, 0x76,\n",
    "   0xCA, 0x82, 0xC9, 0x7D, 0xFA, 0x59, 0x47, 0xF0, 0xAD, 0xD4, 0xA2, 0xAF, 0x9C, 0xA4, 0x72, 0xC0,\n",
    "   0xB7, 0xFD, 0x93, 0x26, 0x36, 0x3F, 0xF7, 0xCC, 0x34, 0xA5, 0xE5, 0xF1, 0x71, 0xD8, 0x31, 0x15,\n",
    "   0x04, 0xC7, 0x23, 0xC3, 0x18, 0x96, 0x05, 0x9A, 0x07, 0x12, 0x80, 0xE2, 0xEB, 0x27, 0xB2, 0x75,\n",
    "   0x09, 0x83, 0x2C, 0x1A, 0x1B, 0x6E, 0x5A, 0xA0, 0x52, 0x3B, 0xD6, 0xB3, 0x29, 0xE3, 0x2F, 0x84,\n",
    "   0x53, 0xD1, 0x00, 0xED, 0x20, 0xFC, 0xB1, 0x5B, 0x6A, 0xCB, 0xBE, 0x39, 0x4A, 0x4C, 0x58, 0xCF,\n",
    "   0xD0, 0xEF, 0xAA, 0xFB, 0x43, 0x4D, 0x33, 0x85, 0x45, 0xF9, 0x02, 0x7F, 0x50, 0x3C, 0x9F, 0xA8,\n",
    "   0x51, 0xA3, 0x40, 0x8F, 0x92, 0x9D, 0x38, 0xF5, 0xBC, 0xB6, 0xDA, 0x21, 0x10, 0xFF, 0xF3, 0xD2,\n",
    "   0xCD, 0x0C, 0x13, 0xEC, 0x5F, 0x97, 0x44, 0x17, 0xC4, 0xA7, 0x7E, 0x3D, 0x64, 0x5D, 0x19, 0x73,\n",
    "   0x60, 0x81, 0x4F, 0xDC, 0x22, 0x2A, 0x90, 0x88, 0x46, 0xEE, 0xB8, 0x14, 0xDE, 0x5E, 0x0B, 0xDB,\n",
    "   0xE0, 0x32, 0x3A, 0x0A, 0x49, 0x06, 0x24, 0x5C, 0xC2, 0xD3, 0xAC, 0x62, 0x91, 0x95, 0xE4, 0x79,\n",
    "   0xE7, 0xC8, 0x37, 0x6D, 0x8D, 0xD5, 0x4E, 0xA9, 0x6C, 0x56, 0xF4, 0xEA, 0x65, 0x7A, 0xAE, 0x08,\n",
    "   0xBA, 0x78, 0x25, 0x2E, 0x1C, 0xA6, 0xB4, 0xC6, 0xE8, 0xDD, 0x74, 0x1F, 0x4B, 0xBD, 0x8B, 0x8A,\n",
    "   0x70, 0x3E, 0xB5, 0x66, 0x48, 0x03, 0xF6, 0x0E, 0x61, 0x35, 0x57, 0xB9, 0x86, 0xC1, 0x1D, 0x9E,\n",
    "   0xE1, 0xF8, 0x98, 0x11, 0x69, 0xD9, 0x8E, 0x94, 0x9B, 0x1E, 0x87, 0xE9, 0xCE, 0x55, 0x28, 0xDF,\n",
    "   0x8C, 0xA1, 0x89, 0x0D, 0xBF, 0xE6, 0x42, 0x68, 0x41, 0x99, 0x2D, 0x0F, 0xB0, 0x54, 0xBB, 0x16,\n",
    ")\n",
    "inv_s_box = (\n",
    "   0x52, 0x09, 0x6A, 0xD5, 0x30, 0x36, 0xA5, 0x38, 0xBF, 0x40, 0xA3, 0x9E, 0x81, 0xF3, 0xD7, 0xFB,\n",
    "   0x7C, 0xE3, 0x39, 0x82, 0x9B, 0x2F, 0xFF, 0x87, 0x34, 0x8E, 0x43, 0x44, 0xC4, 0xDE, 0xE9, 0xCB,\n",
    "   0x54, 0x7B, 0x94, 0x32, 0xA6, 0xC2, 0x23, 0x3D, 0xEE, 0x4C, 0x95, 0x0B, 0x42, 0xFA, 0xC3, 0x4E,\n",
    "   0x08, 0x2E, 0xA1, 0x66, 0x28, 0xD9, 0x24, 0xB2, 0x76, 0x5B, 0xA2, 0x49, 0x6D, 0x8B, 0xD1, 0x25,\n",
    "   0x72, 0xF8, 0xF6, 0x64, 0x86, 0x68, 0x98, 0x16, 0xD4, 0xA4, 0x5C, 0xCC, 0x5D, 0x65, 0xB6, 0x92,\n",
    "   0x6C, 0x70, 0x48, 0x50, 0xFD, 0xED, 0xB9, 0xDA, 0x5E, 0x15, 0x46, 0x57, 0xA7, 0x8D, 0x9D, 0x84,\n",
    "   0x90, 0xD8, 0xAB, 0x00, 0x8C, 0xBC, 0xD3, 0x0A, 0xF7, 0xE4, 0x58, 0x05, 0xB8, 0xB3, 0x45, 0x06,\n",
    "   0xD0, 0x2C, 0x1E, 0x8F, 0xCA, 0x3F, 0x0F, 0x02, 0xC1, 0xAF, 0xBD, 0x03, 0x01, 0x13, 0x8A, 0x6B,\n",
    "   0x3A, 0x91, 0x11, 0x41, 0x4F, 0x67, 0xDC, 0xEA, 0x97, 0xF2, 0xCF, 0xCE, 0xF0, 0xB4, 0xE6, 0x73,\n",
    "   0x96, 0xAC, 0x74, 0x22, 0xE7, 0xAD, 0x35, 0x85, 0xE2, 0xF9, 0x37, 0xE8, 0x1C, 0x75, 0xDF, 0x6E,\n",
    "   0x47, 0xF1, 0x1A, 0x71, 0x1D, 0x29, 0xC5, 0x89, 0x6F, 0xB7, 0x62, 0x0E, 0xAA, 0x18, 0xBE, 0x1B,\n",
    "   0xFC, 0x56, 0x3E, 0x4B, 0xC6, 0xD2, 0x79, 0x20, 0x9A, 0xDB, 0xC0, 0xFE, 0x78, 0xCD, 0x5A, 0xF4,\n",
    "   0x1F, 0xDD, 0xA8, 0x33, 0x88, 0x07, 0xC7, 0x31, 0xB1, 0x12, 0x10, 0x59, 0x27, 0x80, 0xEC, 0x5F,\n",
    "   0x60, 0x51, 0x7F, 0xA9, 0x19, 0xB5, 0x4A, 0x0D, 0x2D, 0xE5, 0x7A, 0x9F, 0x93, 0xC9, 0x9C, 0xEF,\n",
    "   0xA0, 0xE0, 0x3B, 0x4D, 0xAE, 0x2A, 0xF5, 0xB0, 0xC8, 0xEB, 0xBB, 0x3C, 0x83, 0x53, 0x99, 0x61,\n",
    "   0x17, 0x2B, 0x04, 0x7E, 0xBA, 0x77, 0xD6, 0x26, 0xE1, 0x69, 0x14, 0x63, 0x55, 0x21, 0x0C, 0x7D,\n",
    ")\n",
    "state = [\n",
    "   [251, 64, 182, 81],\n",
    "   [146, 168, 33, 80],\n",
    "   [199, 159, 195, 24],\n",
    "   [64, 80, 182, 255],\n",
    "]\n",
    "\n",
    "print(matrix2bytes(sub_bytes(state, sbox=inv_s_box)).decode())"
   ]
  },
  {
   "cell_type": "markdown",
   "id": "cc3372c3",
   "metadata": {},
   "source": [
    "### Diffusion through Permutation"
   ]
  },
  {
   "cell_type": "code",
   "execution_count": 9,
   "id": "d460121c",
   "metadata": {},
   "outputs": [
    {
     "name": "stdout",
     "output_type": "stream",
     "text": [
      "crypto{d1ffUs3R}\n"
     ]
    }
   ],
   "source": [
    "def xtime(a): \n",
    "    return (((a << 1) ^ 0x1B) & 0xFF) if (a & 0x80) else (a << 1)\n",
    "\n",
    "def mix_single_column(a):\n",
    "    t = a[0] ^ a[1] ^ a[2] ^ a[3]\n",
    "    u = a[0]\n",
    "    a[0] ^= t ^ xtime(a[0] ^ a[1])\n",
    "    a[1] ^= t ^ xtime(a[1] ^ a[2])\n",
    "    a[2] ^= t ^ xtime(a[2] ^ a[3])\n",
    "    a[3] ^= t ^ xtime(a[3] ^ u)\n",
    "\n",
    "def mix_columns(s):\n",
    "    for i in range(4):\n",
    "        mix_single_column(s[i])\n",
    "\n",
    "def inv_mix_columns(s):\n",
    "    for i in range(4):\n",
    "        u = xtime(xtime(s[i][0] ^ s[i][2]))\n",
    "        v = xtime(xtime(s[i][1] ^ s[i][3]))\n",
    "        s[i][0] ^= u\n",
    "        s[i][1] ^= v\n",
    "        s[i][2] ^= u\n",
    "        s[i][3] ^= v\n",
    "    mix_columns(s)\n",
    "\n",
    "def inv_shift_rows(s):\n",
    "    s[0][1], s[1][1], s[2][1], s[3][1] = s[3][1], s[0][1], s[1][1], s[2][1]\n",
    "    s[0][2], s[1][2], s[2][2], s[3][2] = s[2][2], s[3][2], s[0][2], s[1][2]\n",
    "    s[0][3], s[1][3], s[2][3], s[3][3] = s[1][3], s[2][3], s[3][3], s[0][3]\n",
    "\n",
    "state = [\n",
    "    [108, 106, 71, 86],\n",
    "    [96, 62, 38, 72],\n",
    "    [42, 184, 92, 209],\n",
    "    [94, 79, 8, 54],\n",
    "]\n",
    "inv_mix_columns(state)\n",
    "inv_shift_rows(state)\n",
    "print(bytes(sum(state, [])).decode())"
   ]
  },
  {
   "cell_type": "markdown",
   "id": "2cddb3d6",
   "metadata": {},
   "source": [
    "### Bringing It All Together"
   ]
  },
  {
   "cell_type": "code",
   "execution_count": 37,
   "id": "f710ad5a",
   "metadata": {},
   "outputs": [
    {
     "name": "stdout",
     "output_type": "stream",
     "text": [
      "c\u0000r\u0000y\u0000p\u0000t\u0000o\u0000{\u0000M\u0000Y\u0000A\u0000E\u0000S\u00001\u00002\u00008\u0000}\u0000\n"
     ]
    }
   ],
   "source": [
    "N_ROUNDS = 10\n",
    "key        = b'\\xc3,\\\\\\xa6\\xb5\\x80^\\x0c\\xdb\\x8d\\xa5z*\\xb6\\xfe\\\\'\n",
    "ciphertext = b'\\xd1O\\x14j\\xa4+O\\xb6\\xa1\\xc4\\x08B)\\x8f\\x12\\xdd'\n",
    "s_box = (\n",
    "    0x63, 0x7C, 0x77, 0x7B, 0xF2, 0x6B, 0x6F, 0xC5, 0x30, 0x01, 0x67, 0x2B, 0xFE, 0xD7, 0xAB, 0x76,\n",
    "    0xCA, 0x82, 0xC9, 0x7D, 0xFA, 0x59, 0x47, 0xF0, 0xAD, 0xD4, 0xA2, 0xAF, 0x9C, 0xA4, 0x72, 0xC0,\n",
    "    0xB7, 0xFD, 0x93, 0x26, 0x36, 0x3F, 0xF7, 0xCC, 0x34, 0xA5, 0xE5, 0xF1, 0x71, 0xD8, 0x31, 0x15,\n",
    "    0x04, 0xC7, 0x23, 0xC3, 0x18, 0x96, 0x05, 0x9A, 0x07, 0x12, 0x80, 0xE2, 0xEB, 0x27, 0xB2, 0x75,\n",
    "    0x09, 0x83, 0x2C, 0x1A, 0x1B, 0x6E, 0x5A, 0xA0, 0x52, 0x3B, 0xD6, 0xB3, 0x29, 0xE3, 0x2F, 0x84,\n",
    "    0x53, 0xD1, 0x00, 0xED, 0x20, 0xFC, 0xB1, 0x5B, 0x6A, 0xCB, 0xBE, 0x39, 0x4A, 0x4C, 0x58, 0xCF,\n",
    "    0xD0, 0xEF, 0xAA, 0xFB, 0x43, 0x4D, 0x33, 0x85, 0x45, 0xF9, 0x02, 0x7F, 0x50, 0x3C, 0x9F, 0xA8,\n",
    "    0x51, 0xA3, 0x40, 0x8F, 0x92, 0x9D, 0x38, 0xF5, 0xBC, 0xB6, 0xDA, 0x21, 0x10, 0xFF, 0xF3, 0xD2,\n",
    "    0xCD, 0x0C, 0x13, 0xEC, 0x5F, 0x97, 0x44, 0x17, 0xC4, 0xA7, 0x7E, 0x3D, 0x64, 0x5D, 0x19, 0x73,\n",
    "    0x60, 0x81, 0x4F, 0xDC, 0x22, 0x2A, 0x90, 0x88, 0x46, 0xEE, 0xB8, 0x14, 0xDE, 0x5E, 0x0B, 0xDB,\n",
    "    0xE0, 0x32, 0x3A, 0x0A, 0x49, 0x06, 0x24, 0x5C, 0xC2, 0xD3, 0xAC, 0x62, 0x91, 0x95, 0xE4, 0x79,\n",
    "    0xE7, 0xC8, 0x37, 0x6D, 0x8D, 0xD5, 0x4E, 0xA9, 0x6C, 0x56, 0xF4, 0xEA, 0x65, 0x7A, 0xAE, 0x08,\n",
    "    0xBA, 0x78, 0x25, 0x2E, 0x1C, 0xA6, 0xB4, 0xC6, 0xE8, 0xDD, 0x74, 0x1F, 0x4B, 0xBD, 0x8B, 0x8A,\n",
    "    0x70, 0x3E, 0xB5, 0x66, 0x48, 0x03, 0xF6, 0x0E, 0x61, 0x35, 0x57, 0xB9, 0x86, 0xC1, 0x1D, 0x9E,\n",
    "    0xE1, 0xF8, 0x98, 0x11, 0x69, 0xD9, 0x8E, 0x94, 0x9B, 0x1E, 0x87, 0xE9, 0xCE, 0x55, 0x28, 0xDF,\n",
    "    0x8C, 0xA1, 0x89, 0x0D, 0xBF, 0xE6, 0x42, 0x68, 0x41, 0x99, 0x2D, 0x0F, 0xB0, 0x54, 0xBB, 0x16,\n",
    ")\n",
    "inv_s_box = (\n",
    "    0x52, 0x09, 0x6A, 0xD5, 0x30, 0x36, 0xA5, 0x38, 0xBF, 0x40, 0xA3, 0x9E, 0x81, 0xF3, 0xD7, 0xFB,\n",
    "    0x7C, 0xE3, 0x39, 0x82, 0x9B, 0x2F, 0xFF, 0x87, 0x34, 0x8E, 0x43, 0x44, 0xC4, 0xDE, 0xE9, 0xCB,\n",
    "    0x54, 0x7B, 0x94, 0x32, 0xA6, 0xC2, 0x23, 0x3D, 0xEE, 0x4C, 0x95, 0x0B, 0x42, 0xFA, 0xC3, 0x4E,\n",
    "    0x08, 0x2E, 0xA1, 0x66, 0x28, 0xD9, 0x24, 0xB2, 0x76, 0x5B, 0xA2, 0x49, 0x6D, 0x8B, 0xD1, 0x25,\n",
    "    0x72, 0xF8, 0xF6, 0x64, 0x86, 0x68, 0x98, 0x16, 0xD4, 0xA4, 0x5C, 0xCC, 0x5D, 0x65, 0xB6, 0x92,\n",
    "    0x6C, 0x70, 0x48, 0x50, 0xFD, 0xED, 0xB9, 0xDA, 0x5E, 0x15, 0x46, 0x57, 0xA7, 0x8D, 0x9D, 0x84,\n",
    "    0x90, 0xD8, 0xAB, 0x00, 0x8C, 0xBC, 0xD3, 0x0A, 0xF7, 0xE4, 0x58, 0x05, 0xB8, 0xB3, 0x45, 0x06,\n",
    "    0xD0, 0x2C, 0x1E, 0x8F, 0xCA, 0x3F, 0x0F, 0x02, 0xC1, 0xAF, 0xBD, 0x03, 0x01, 0x13, 0x8A, 0x6B,\n",
    "    0x3A, 0x91, 0x11, 0x41, 0x4F, 0x67, 0xDC, 0xEA, 0x97, 0xF2, 0xCF, 0xCE, 0xF0, 0xB4, 0xE6, 0x73,\n",
    "    0x96, 0xAC, 0x74, 0x22, 0xE7, 0xAD, 0x35, 0x85, 0xE2, 0xF9, 0x37, 0xE8, 0x1C, 0x75, 0xDF, 0x6E,\n",
    "    0x47, 0xF1, 0x1A, 0x71, 0x1D, 0x29, 0xC5, 0x89, 0x6F, 0xB7, 0x62, 0x0E, 0xAA, 0x18, 0xBE, 0x1B,\n",
    "    0xFC, 0x56, 0x3E, 0x4B, 0xC6, 0xD2, 0x79, 0x20, 0x9A, 0xDB, 0xC0, 0xFE, 0x78, 0xCD, 0x5A, 0xF4,\n",
    "    0x1F, 0xDD, 0xA8, 0x33, 0x88, 0x07, 0xC7, 0x31, 0xB1, 0x12, 0x10, 0x59, 0x27, 0x80, 0xEC, 0x5F,\n",
    "    0x60, 0x51, 0x7F, 0xA9, 0x19, 0xB5, 0x4A, 0x0D, 0x2D, 0xE5, 0x7A, 0x9F, 0x93, 0xC9, 0x9C, 0xEF,\n",
    "    0xA0, 0xE0, 0x3B, 0x4D, 0xAE, 0x2A, 0xF5, 0xB0, 0xC8, 0xEB, 0xBB, 0x3C, 0x83, 0x53, 0x99, 0x61,\n",
    "    0x17, 0x2B, 0x04, 0x7E, 0xBA, 0x77, 0xD6, 0x26, 0xE1, 0x69, 0x14, 0x63, 0x55, 0x21, 0x0C, 0x7D,\n",
    ")\n",
    "\n",
    "def bytes2matrix(text):\n",
    "    return [list(text[i:i+4]) for i in range(0, len(text), 4)]\n",
    "\n",
    "def matrix2bytes(matrix):\n",
    "    out = []\n",
    "    for r in matrix:\n",
    "        for c in r:\n",
    "            out.append(c.to_bytes(2,byteorder='little').decode())\n",
    "    return ''.join(out)\n",
    "\n",
    "def inv_shift_rows(s):\n",
    "    s[0][1], s[1][1], s[2][1], s[3][1] = s[3][1], s[0][1], s[1][1], s[2][1]\n",
    "    s[0][2], s[1][2], s[2][2], s[3][2] = s[2][2], s[3][2], s[0][2], s[1][2]\n",
    "    s[0][3], s[1][3], s[2][3], s[3][3] = s[1][3], s[2][3], s[3][3], s[0][3]\n",
    "\n",
    "def inv_sub_bytes(s, sbox=inv_s_box):\n",
    "    for i in range(len(s)):\n",
    "        for j in range(len(s[i])):\n",
    "            s[i][j] = (sbox[s[i][j]])\n",
    "\n",
    "\n",
    "def add_round_key(s, k):\n",
    "    for i in range(len(s)):\n",
    "        for j in range(len(s[i])):\n",
    "            s[i][j] = (s[i][j] ^ k[i][j])\n",
    "\n",
    "xtime = lambda a: (((a << 1) ^ 0x1B) & 0xFF) if (a & 0x80) else (a << 1)\n",
    "\n",
    "def mix_single_column(a):\n",
    "    t = a[0] ^ a[1] ^ a[2] ^ a[3]\n",
    "    u = a[0]\n",
    "    a[0] ^= t ^ xtime(a[0] ^ a[1])\n",
    "    a[1] ^= t ^ xtime(a[1] ^ a[2])\n",
    "    a[2] ^= t ^ xtime(a[2] ^ a[3])\n",
    "    a[3] ^= t ^ xtime(a[3] ^ u)\n",
    "\n",
    "def mix_columns(s):\n",
    "    for i in range(4):\n",
    "        mix_single_column(s[i])\n",
    "\n",
    "def inv_mix_columns(s):\n",
    "    for i in range(4):\n",
    "        u = xtime(xtime(s[i][0] ^ s[i][2]))\n",
    "        v = xtime(xtime(s[i][1] ^ s[i][3]))\n",
    "        s[i][0] ^= u\n",
    "        s[i][1] ^= v\n",
    "        s[i][2] ^= u\n",
    "        s[i][3] ^= v\n",
    "    mix_columns(s)\n",
    "\n",
    "def expand_key(master_key):\n",
    "    # Round constants https://en.wikipedia.org/wiki/AES_key_schedule#Round_constants\n",
    "    r_con = (\n",
    "        0x00, 0x01, 0x02, 0x04, 0x08, 0x10, 0x20, 0x40,\n",
    "        0x80, 0x1B, 0x36, 0x6C, 0xD8, 0xAB, 0x4D, 0x9A,\n",
    "        0x2F, 0x5E, 0xBC, 0x63, 0xC6, 0x97, 0x35, 0x6A,\n",
    "        0xD4, 0xB3, 0x7D, 0xFA, 0xEF, 0xC5, 0x91, 0x39,\n",
    "    )\n",
    "    key_columns = bytes2matrix(master_key)\n",
    "    iteration_size = len(master_key) // 4\n",
    "    i = 1\n",
    "    while len(key_columns) < (N_ROUNDS + 1) * 4:\n",
    "        word = list(key_columns[-1])\n",
    "        if len(key_columns) % iteration_size == 0:\n",
    "            word.append(word.pop(0))\n",
    "            word = [s_box[b] for b in word]\n",
    "            word[0] ^= r_con[i]\n",
    "            i += 1\n",
    "        elif len(master_key) == 32 and len(key_columns) % iteration_size == 4:\n",
    "            word = [s_box[b] for b in word]\n",
    "        word = bytes(i^j for i, j in zip(word, key_columns[-iteration_size]))\n",
    "        key_columns.append(word)\n",
    "    return [key_columns[4*i : 4*(i+1)] for i in range(len(key_columns) // 4)]\n",
    "\n",
    "def decrypt(key, ciphertext):\n",
    "    round_keys = expand_key(key)\n",
    "    state = bytes2matrix(ciphertext)\n",
    "    add_round_key(state,round_keys[-1])\n",
    "    for i in range(N_ROUNDS - 1, 0, -1):\n",
    "        inv_shift_rows(state)\n",
    "        inv_sub_bytes(state, inv_s_box)\n",
    "        add_round_key(state,round_keys[i])\n",
    "        inv_mix_columns(state)\n",
    "    inv_shift_rows(state)\n",
    "    inv_sub_bytes(state, inv_s_box)\n",
    "    add_round_key(state,round_keys[0])\n",
    "    plaintext = matrix2bytes(state)\n",
    "    return plaintext\n",
    "\n",
    "print(decrypt(key, ciphertext))"
   ]
  },
  {
   "cell_type": "markdown",
   "id": "03778662",
   "metadata": {},
   "source": [
    "# Symmetric Starter"
   ]
  },
  {
   "cell_type": "markdown",
   "id": "317b487e",
   "metadata": {},
   "source": [
    "### Modes of Operation Starter"
   ]
  },
  {
   "cell_type": "code",
   "execution_count": 38,
   "id": "8303bb96",
   "metadata": {},
   "outputs": [
    {
     "name": "stdout",
     "output_type": "stream",
     "text": [
      "crypto{bl0ck_c1ph3r5_4r3_f457_!}\n"
     ]
    }
   ],
   "source": [
    "import requests\n",
    "from binascii import unhexlify\n",
    "\n",
    "def get_flag():\n",
    "    r = requests.get(\"https://aes.cryptohack.org/block_cipher_starter/encrypt_flag/\")\n",
    "    ciphertext = r.json()[\"ciphertext\"]\n",
    "    r = requests.get(f\"https://aes.cryptohack.org/block_cipher_starter/decrypt/{ciphertext}/\")\n",
    "    plaintext_hex = r.json()[\"plaintext\"]\n",
    "    flag = unhexlify(plaintext_hex).decode()\n",
    "    return flag\n",
    "\n",
    "print(get_flag())"
   ]
  },
  {
   "cell_type": "markdown",
   "id": "a654c8ff",
   "metadata": {},
   "source": [
    "### Passwords as Keys"
   ]
  },
  {
   "cell_type": "code",
   "execution_count": 43,
   "id": "dfd67f12",
   "metadata": {},
   "outputs": [
    {
     "name": "stdout",
     "output_type": "stream",
     "text": [
      "Downloading ciphertext...\n",
      "Downloading wordlist...\n",
      "Starting decryption with 99171 words...\n"
     ]
    },
    {
     "name": "stderr",
     "output_type": "stream",
     "text": [
      "Testing passwords:  24%|██▍       | 23794/99171 [00:00<00:01, 45615.64it/s]\n"
     ]
    },
    {
     "name": "stdout",
     "output_type": "stream",
     "text": [
      "\n",
      "Found flag using word 'bluebell': crypto{k3y5__r__n07__p455w0rdz?}\n"
     ]
    }
   ],
   "source": [
    "from Crypto.Cipher import AES\n",
    "import hashlib\n",
    "import requests\n",
    "from concurrent.futures import ThreadPoolExecutor, as_completed\n",
    "from tqdm import tqdm\n",
    "\n",
    "def get_ciphertext():\n",
    "    r = requests.get(\"http://aes.cryptohack.org/passwords_as_keys/encrypt_flag/\")\n",
    "    return r.json()[\"ciphertext\"]\n",
    "\n",
    "def get_wordlist():\n",
    "    r = requests.get(\"https://gist.githubusercontent.com/wchargin/8927565/raw/d9783627c731268fb2935a731a618aa8e95cf465/words\")\n",
    "    return [w.strip() for w in r.text.splitlines()]\n",
    "\n",
    "def try_decrypt(word, ciphertext):\n",
    "    key = hashlib.md5(word.encode()).digest()\n",
    "    cipher = AES.new(key, AES.MODE_ECB)\n",
    "    try:\n",
    "        decrypted = cipher.decrypt(bytes.fromhex(ciphertext))\n",
    "        if b\"crypto{\" in decrypted:\n",
    "            return decrypted\n",
    "    except:\n",
    "        pass\n",
    "    return None\n",
    "\n",
    "def main():\n",
    "    print(\"Downloading ciphertext...\")\n",
    "    ct = get_ciphertext()\n",
    "    print(\"Downloading wordlist...\")\n",
    "    words = get_wordlist()\n",
    "    print(f\"Starting decryption with {len(words)} words...\")\n",
    "    with ThreadPoolExecutor(max_workers=20) as executor:\n",
    "        futures = {executor.submit(try_decrypt, word, ct): word for word in words}\n",
    "        for future in tqdm(as_completed(futures), total=len(futures), desc=\"Testing passwords\"):\n",
    "            result = future.result()\n",
    "            if result:\n",
    "                word = futures[future]\n",
    "                print(f\"\\nFound flag using word '{word}': {result.decode()}\")\n",
    "                return\n",
    "\n",
    "if __name__ == \"__main__\":\n",
    "    main()"
   ]
  },
  {
   "cell_type": "markdown",
   "id": "a5e28521",
   "metadata": {},
   "source": [
    "# Block Ciphers 1"
   ]
  },
  {
   "cell_type": "markdown",
   "id": "42ca0720",
   "metadata": {},
   "source": [
    "### ECB CBC WTF"
   ]
  },
  {
   "cell_type": "code",
   "execution_count": 45,
   "id": "5c731ab4",
   "metadata": {},
   "outputs": [
    {
     "name": "stdout",
     "output_type": "stream",
     "text": [
      "crypto{3cb_5uck5_4v01d_17_!!!!!}\n"
     ]
    }
   ],
   "source": [
    "import requests\n",
    "from Crypto.Util.strxor import strxor\n",
    "import binascii\n",
    "\n",
    "def get_encrypted_flag():\n",
    "    r = requests.get(\"https://aes.cryptohack.org/ecbcbcwtf/encrypt_flag/\")\n",
    "    return r.json()[\"ciphertext\"]\n",
    "\n",
    "def decrypt_ecb(ciphertext):\n",
    "    r = requests.get(f\"https://aes.cryptohack.org/ecbcbcwtf/decrypt/{ciphertext}/\")\n",
    "    return r.json()[\"plaintext\"]\n",
    "\n",
    "ciphertext = get_encrypted_flag()\n",
    "iv = binascii.unhexlify(ciphertext[:32])\n",
    "encrypted_blocks = [\n",
    "    binascii.unhexlify(ciphertext[i:i+32])  \n",
    "    for i in range(32, len(ciphertext), 32)\n",
    "]\n",
    "decrypted_blocks = []\n",
    "for block in encrypted_blocks:\n",
    "    dec = binascii.unhexlify(decrypt_ecb(block.hex()))\n",
    "    decrypted_blocks.append(dec)\n",
    "plaintext_blocks = []\n",
    "prev_block = iv\n",
    "for i, block in enumerate(decrypted_blocks):\n",
    "    plaintext = strxor(block, prev_block)\n",
    "    plaintext_blocks.append(plaintext)\n",
    "    prev_block = encrypted_blocks[i]\n",
    "flag = b''.join(plaintext_blocks)\n",
    "print(flag.decode())"
   ]
  },
  {
   "cell_type": "markdown",
   "id": "ff409c10",
   "metadata": {},
   "source": [
    "### ECB Oracle"
   ]
  },
  {
   "cell_type": "code",
   "execution_count": 3,
   "id": "7601f602",
   "metadata": {},
   "outputs": [
    {
     "name": "stdout",
     "output_type": "stream",
     "text": [
      "c\n",
      "cr\n",
      "cry\n",
      "cryp\n",
      "crypt\n",
      "crypto\n",
      "crypto{\n",
      "crypto{p\n",
      "crypto{p3\n",
      "crypto{p3n\n",
      "crypto{p3n6\n",
      "crypto{p3n6u\n",
      "crypto{p3n6u1\n",
      "crypto{p3n6u1n\n",
      "crypto{p3n6u1n5\n",
      "crypto{p3n6u1n5_\n",
      "crypto{p3n6u1n5_h\n",
      "crypto{p3n6u1n5_h4\n",
      "crypto{p3n6u1n5_h47\n",
      "crypto{p3n6u1n5_h473\n",
      "crypto{p3n6u1n5_h473_\n",
      "crypto{p3n6u1n5_h473_3\n",
      "crypto{p3n6u1n5_h473_3c\n",
      "crypto{p3n6u1n5_h473_3cb\n",
      "crypto{p3n6u1n5_h473_3cb}\n"
     ]
    }
   ],
   "source": [
    "import requests\n",
    "\n",
    "s = requests.session()\n",
    "\n",
    "def encrypt(data):\n",
    "\tr = s.get(f\"http://aes.cryptohack.org/ecb_oracle/encrypt/{data.hex()}/\")\n",
    "\treturn(bytes.fromhex(r.json()[\"ciphertext\"]))\n",
    "\n",
    "def encrypt_big(data):\n",
    "\tMAX_SIZE = 0x10*56\n",
    "\tfor i in range((len(data)-1)//MAX_SIZE+1):\n",
    "\t\tblock = data[i*MAX_SIZE:(i+1)*MAX_SIZE]\n",
    "\t\tct = encrypt(block)[:len(block)]\n",
    "\t\tfor j in range(len(ct)//0x10):\n",
    "\t\t\tyield ct[j*0x10:(j+1)*0x10]\n",
    "\n",
    "charset = list(b\"etoanihsrdlucgwyfmpbkvjxqz{}_01234567890ETOANIHSRDLUCGWYFMPBKVJXQZ\")\n",
    "for i in range(0x100):\n",
    "\tif i not in charset:\n",
    "\t\tcharset.append(i)\n",
    "targets = [encrypt(b\"A\"*(0x10-i)) for i in range(0x10)]\n",
    "lengths = list(map(len, targets))\n",
    "flag_len = lengths[-1] - 0x11 + lengths.index(lengths[-1])\n",
    "flag = b\"\"\n",
    "for _ in range(flag_len):\n",
    "\tb, i = divmod(len(flag) + 1, 0x10)\n",
    "\ttarget = targets[i][b*0x10:(b+1)*0x10]\n",
    "\tattempts = b\"\"\n",
    "\tfor c in charset:\n",
    "\t\tattempts += (b\"A\"*0x10+flag+bytes([c]))[-0x10:]\n",
    "\tfor c, ct in zip(charset, encrypt_big(attempts)):\n",
    "\t\tif ct == target:\n",
    "\t\t\tflag += bytes([c])\n",
    "\t\t\tprint(flag.decode())\n",
    "\t\t\tbreak\n",
    "\telse:\n",
    "\t\texit(\"oof\")"
   ]
  },
  {
   "cell_type": "markdown",
   "id": "e0af650c",
   "metadata": {},
   "source": [
    "### Flipping Cookie"
   ]
  },
  {
   "cell_type": "code",
   "execution_count": 12,
   "id": "c9a23c8f",
   "metadata": {},
   "outputs": [
    {
     "name": "stdout",
     "output_type": "stream",
     "text": [
      "{'flag': 'crypto{4u7h3n71c4710n_15_3553n714l}'}\n"
     ]
    }
   ],
   "source": [
    "from datetime import datetime, timedelta\n",
    "import requests\n",
    "\n",
    "def request_cookie():\n",
    "    r = requests.get(\"http://aes.cryptohack.org/flipping_cookie/get_cookie/\")\n",
    "    return r.json()[\"cookie\"]\n",
    "\n",
    "def request_check_admin(cookie, iv):\n",
    "    r = requests.get(f\"http://aes.cryptohack.org/flipping_cookie/check_admin/{cookie}/{iv}/\")\n",
    "    return r.json()\n",
    "\n",
    "def flip(cookie, plain):\n",
    "    cookie_bytes = bytes.fromhex(cookie)\n",
    "    iv = bytearray([0]*16)\n",
    "    cipher_fake = bytearray(cookie_bytes)\n",
    "    fake = b';admin=True;'\n",
    "    start = plain.find(b'admin=False')\n",
    "    for i in range(len(fake)):\n",
    "        iv[start+i] = plain[start+i] ^ cookie_bytes[start+i] ^ fake[i]\n",
    "    return cookie_bytes[16:].hex(), iv.hex()\n",
    "\n",
    "def main():\n",
    "    expires_at = (datetime.today() + timedelta(days=1)).strftime(\"%s\")\n",
    "    plain = f\"admin=False;expiry={expires_at}\".encode()\n",
    "    cookie = request_cookie()\n",
    "    modified_cookie, modified_iv = flip(cookie, plain)\n",
    "    result = request_check_admin(modified_cookie, modified_iv)\n",
    "    print(result)\n",
    "\n",
    "if __name__ == \"__main__\":\n",
    "    main()"
   ]
  },
  {
   "cell_type": "markdown",
   "id": "dcab4d99",
   "metadata": {},
   "source": [
    "### Lazy CBC"
   ]
  },
  {
   "cell_type": "code",
   "execution_count": 15,
   "id": "17531e72",
   "metadata": {},
   "outputs": [
    {
     "name": "stdout",
     "output_type": "stream",
     "text": [
      "crypto{50m3_p30pl3_d0n7_7h1nk_IV_15_1mp0r74n7_?}\n"
     ]
    }
   ],
   "source": [
    "import requests\n",
    "\n",
    "def encrypt(plaintext):\n",
    "    r = requests.get(f\"https://aes.cryptohack.org/lazy_cbc/encrypt/{plaintext}/\")\n",
    "    return r.json()[\"ciphertext\"]\n",
    "\n",
    "def receive(ciphertext):\n",
    "    r = requests.get(f\"https://aes.cryptohack.org/lazy_cbc/receive/{ciphertext}/\")\n",
    "    return r.json()\n",
    "\n",
    "def get_flag(key):\n",
    "    r = requests.get(f\"https://aes.cryptohack.org/lazy_cbc/get_flag/{key}/\")\n",
    "    return r.json()\n",
    "\n",
    "plain = (b'a'*(16*3)).hex()\n",
    "cipher = encrypt(plain)\n",
    "fake_cipher = cipher[:32] + '0'*32 + cipher[:32]\n",
    "resp = receive(fake_cipher)\n",
    "if \"error\" in resp:\n",
    "    fake_plain = resp[\"error\"].split(\": \")[1]\n",
    "    fake_plain_bytes = bytes.fromhex(fake_plain)\n",
    "    key = bytearray(16)\n",
    "    for i in range(16):\n",
    "        key[i] = fake_plain_bytes[i] ^ fake_plain_bytes[32+i]\n",
    "    result = get_flag(key.hex())\n",
    "    if \"plaintext\" in result:\n",
    "        flag = bytes.fromhex(result[\"plaintext\"]).decode()\n",
    "        print(flag)"
   ]
  },
  {
   "cell_type": "markdown",
   "id": "176585ec",
   "metadata": {},
   "source": [
    "### Triple DES"
   ]
  },
  {
   "cell_type": "code",
   "execution_count": 20,
   "id": "3a28bd22",
   "metadata": {},
   "outputs": [
    {
     "name": "stdout",
     "output_type": "stream",
     "text": [
      "crypto{n0t_4ll_k3ys_4r3_g00d_k3ys}\n"
     ]
    }
   ],
   "source": [
    "import requests\n",
    "\n",
    "def encrypt(key, plain):\n",
    "    url = \"http://aes.cryptohack.org/triple_des/encrypt/\"\n",
    "    rsp = requests.get(url + key + '/' + plain + '/').json()\n",
    "    if rsp.get(\"error\", None):\n",
    "        raise ValueError(rsp[\"error\"])\n",
    "    return rsp[\"ciphertext\"]\n",
    "\n",
    "def encrypt_flag(key):\n",
    "    url = \"http://aes.cryptohack.org/triple_des/encrypt_flag/\"\n",
    "    rsp = requests.get(url + key + '/').json()\n",
    "    if rsp.get(\"error\", None):\n",
    "        raise ValueError(rsp[\"error\"])\n",
    "    return rsp[\"ciphertext\"]\n",
    "\n",
    "key = b'\\x00'*8 + b'\\xff'*8\n",
    "flag = encrypt_flag(key.hex())\n",
    "flag_sz = 34\n",
    "cipher = encrypt(key.hex(), flag)\n",
    "flag_bytes = bytes.fromhex(cipher)\n",
    "flag = flag_bytes.split(b'}')[0] + b'}'\n",
    "print(flag.decode())"
   ]
  },
  {
   "cell_type": "markdown",
   "id": "04e2d256",
   "metadata": {},
   "source": [
    "# Stream Ciphers"
   ]
  },
  {
   "cell_type": "markdown",
   "id": "8729e4ca",
   "metadata": {},
   "source": [
    "### Symmetry"
   ]
  },
  {
   "cell_type": "code",
   "execution_count": 33,
   "id": "d10bdfb7",
   "metadata": {},
   "outputs": [
    {
     "name": "stdout",
     "output_type": "stream",
     "text": [
      "crypto{0fb_15_5ymm37r1c4l_!!!11!}\n"
     ]
    }
   ],
   "source": [
    "import requests\n",
    "from pwn import *\n",
    "\n",
    "def encrypt_flag():\n",
    "    url = \"http://aes.cryptohack.org/symmetry/encrypt_flag/\"\n",
    "    return requests.get(url).json().get(\"ciphertext\", None)\n",
    "\n",
    "def encrypt(ciphertext, iv):\n",
    "    url = f\"http://aes.cryptohack.org/symmetry/encrypt/{ciphertext}/{iv}/\"\n",
    "    return requests.get(url).json().get(\"ciphertext\", None)\n",
    "\n",
    "ciphertext = encrypt_flag()\n",
    "iv = bytes.fromhex(ciphertext[:32])\n",
    "flag_encrypt = bytes.fromhex(ciphertext[32:])\n",
    "print(bytes.fromhex(encrypt(flag_encrypt.hex(), iv.hex())).decode())"
   ]
  },
  {
   "cell_type": "markdown",
   "id": "691a9e92",
   "metadata": {},
   "source": [
    "### Bean Counter"
   ]
  },
  {
   "cell_type": "code",
   "execution_count": null,
   "id": "5f53e447",
   "metadata": {},
   "outputs": [
    {
     "data": {
      "image/png": "[encoded data removed]",
      "text/plain": [
       "<Figure size 800x600 with 1 Axes>"
      ]
     },
     "metadata": {},
     "output_type": "display_data"
    }
   ],
   "source": [
    "import requests\n",
    "import matplotlib.pyplot as plt\n",
    "from PIL import Image\n",
    "\n",
    "def encrypt():\n",
    "    url = \"http://aes.cryptohack.org/bean_counter/encrypt/\"\n",
    "    rsp = requests.get(url)\n",
    "    return rsp.json()['encrypted']\n",
    "\n",
    "png_hdr = bytes([0x89, 0x50, 0x4e, 0x47, 0x0d, 0x0a, 0x1a, 0x0a, 0x00, 0x00, 0x00, 0x0d, 0x49, 0x48, 0x44, 0x52])\n",
    "encrypted = bytes.fromhex(encrypt())\n",
    "keystream = []\n",
    "for i in range(len(png_hdr)):\n",
    "    keystream.append(png_hdr[i] ^ encrypted[i])\n",
    "png = [0]*len(encrypted)\n",
    "for i in range(len(encrypted)):\n",
    "    png[i] = encrypted[i] ^ keystream[i%len(keystream)]\n",
    "with open('bean_counter.png', 'wb') as fd:\n",
    "    fd.write(bytes(png))\n",
    "img = Image.open('bean_counter.png')\n",
    "plt.figure(figsize=(8,6))\n",
    "plt.imshow(img)\n",
    "plt.axis('off')\n",
    "plt.title('Decrypted Image')\n",
    "plt.tight_layout()\n",
    "plt.show()"
   ]
  },
  {
   "cell_type": "markdown",
   "id": "88df6261",
   "metadata": {},
   "source": [
    "### CTRIME"
   ]
  },
  {
   "cell_type": "code",
   "execution_count": 5,
   "id": "cb55934a",
   "metadata": {},
   "outputs": [
    {
     "name": "stdout",
     "output_type": "stream",
     "text": [
      "crypto{C\n",
      "crypto{CR\n",
      "crypto{CRI\n",
      "crypto{CRIM\n",
      "crypto{CRIME\n",
      "crypto{CRIME_\n",
      "crypto{CRIME_5\n",
      "crypto{CRIME_57\n",
      "crypto{CRIME_571\n",
      "crypto{CRIME_571l\n",
      "crypto{CRIME_571ll\n",
      "crypto{CRIME_571ll_\n",
      "crypto{CRIME_571ll_p\n",
      "crypto{CRIME_571ll_p4\n",
      "crypto{CRIME_571ll_p4y\n",
      "crypto{CRIME_571ll_p4y5\n",
      "crypto{CRIME_571ll_p4y5}\n"
     ]
    }
   ],
   "source": [
    "import requests\n",
    "import string\n",
    "from Crypto.Util.Padding import unpad\n",
    "\n",
    "def encrypt(plaintext):\n",
    "    res = requests.get(f\"http://aes.cryptohack.org/ctrime/encrypt/{plaintext.hex()}/\")\n",
    "    return bytes.fromhex(res.json()['ciphertext'])\n",
    "\n",
    "flag = b'crypto{'\n",
    "inv = ';'\n",
    "while True:\n",
    "    for i in range(32,127):\n",
    "        cipher = encrypt((flag+inv.encode())*2)\n",
    "        length = len(cipher)\n",
    "        cipher = encrypt((flag+chr(i).encode())*2)\n",
    "        if length > len(cipher):\n",
    "            flag += chr(i).encode()\n",
    "            break\n",
    "    print(flag.decode())\n",
    "    if chr(flag[-1]) == '}':\n",
    "        break"
   ]
  },
  {
   "cell_type": "markdown",
   "id": "b9f4ac08",
   "metadata": {},
   "source": [
    "### Logon Zero"
   ]
  },
  {
   "cell_type": "code",
   "execution_count": null,
   "id": "2002361c",
   "metadata": {},
   "outputs": [
    {
     "name": "stdout",
     "output_type": "stream",
     "text": [
      "{\"msg\": \"Welcome admin, flag: crypto{Zerologon_Windows_CVE-2020-1472}\"}\n"
     ]
    }
   ],
   "source": [
    "import socket\n",
    "import json\n",
    "\n",
    "HOST = \"socket.cryptohack.org\"\n",
    "PORT = 13399\n",
    "with socket.socket(socket.AF_INET, socket.SOCK_STREAM) as s:\n",
    "    s.connect((HOST, PORT))\n",
    "    s.recv(1024)\n",
    "    while True:\n",
    "        reset_msg = json.dumps({\n",
    "            \"option\": \"reset_password\",\n",
    "            \"token\": \"00000000000000000000000000000000000000000000000000000000000000000000000000\"\n",
    "        }).encode() + b\"\\n\"\n",
    "        s.send(reset_msg)\n",
    "        s.recv(1024)\n",
    "        auth_msg = json.dumps({\n",
    "            \"option\": \"authenticate\",\n",
    "            \"password\": \"\"\n",
    "        }).encode() + b\"\\n\"\n",
    "        s.send(auth_msg)\n",
    "        response = s.recv(1024).decode()\n",
    "        if \"flag\" in response:\n",
    "            print(response.strip())\n",
    "            break\n",
    "        reset_conn = json.dumps({\n",
    "            \"option\": \"reset_connection\"\n",
    "        }).encode() + b\"\\n\"\n",
    "        s.send(reset_conn)\n",
    "        s.recv(1024)"
   ]
  },
  {
   "cell_type": "markdown",
   "id": "cfce6ff7",
   "metadata": {},
   "source": [
    "### Stream of Consciousness"
   ]
  },
  {
   "cell_type": "code",
   "execution_count": 17,
   "id": "77a3c5ab",
   "metadata": {},
   "outputs": [
    {
     "name": "stdout",
     "output_type": "stream",
     "text": [
      "crypto{\n",
      "cipher 8e7f08cfc93daf58daa67df62313e1e5f9faf7870bf5459558f118b7fa2bbf553cc387c05fe980ff72fe1ecebf3628e3\n",
      "ggcrn5e*k\n",
      "cipher 8e7f08cfc93daf58daa67df62313e1e5f9faf7870bf5459558f118b7fa2bbf553cc387c05fe980ff72fe1ecebf3628e3\n",
      "gvi+|woP\n",
      "cipher 8e7f08cfc93daf58daa67df62313e1e5f9faf7870bf5459558f118b7fa2bbf553cc387c05fe980ff72fe1ecebf3628e3\n",
      "rd+qs?A\n",
      "cipher 8a7208c2cd6dbe17cbb07dec370eafe1feeea8c21fb9508454bf0be5fa36f11d32df908545b680ce76ef0c81a72769ac330a98599bd8af25a552ea065f1ca7bab222e3f5598eed6094fe\n",
      "vi<9f*@\n",
      "cipher 8e7f1f8ad878bf45cab731e17609e7e5f9fafbce08b9508450eb5fe3f33abf4d32c280854fa4ce8b63ac05c4e52a26b0325dd90cb899a328a556f1071a4ea0a0ab38a1\n",
      "crypto{\n",
      "cipher 9b645ac3ca3d8417cbb439a43713f6ace0f4a8cf5bed4bcc53fa5ffef57feb55369186cc4badd48d37c547c2a4306eb67d\n",
      "ui8m2.`rja1.9\n",
      "cipher 8e7f08cfc93daf58daa67df62313e1e5f9faf7870bf5459558f118b7fa2bbf553cc387c05fe980ff72fe1ecebf3628e3\n",
      "d~=f5d!q\n",
      "cipher 8e7f08cfc93daf58daa67df62313e1e5f9faf7870bf5459558f118b7fa2bbf553cc387c05fe980ff72fe1ecebf3628e3\n",
      "z0f8`q`\n",
      "cipher 8a7208c2cd6dbe17cbb07dec370eafe1feeea8c21fb9508454bf0be5fa36f11d32df908545b680ce76ef0c81a72769ac330a98599bd8af25a552ea065f1ca7bab222e3f5598eed6094fe\n",
      "~=qpuda\n",
      "cipher 8e7f1f8ad878bf45cab731e17609e7e5f9fafbce08b9508450eb5fe3f33abf4d32c280854fa4ce8b63ac05c4e52a26b0325dd90cb899a328a556f1071a4ea0a0ab38a1\n",
      "k&49g!Z\n",
      "cipher 9b645ac3ca3d8417cbb439a43713f6ace0f4a8cf5bed4bcc53fa5ffef57feb55369186cc4badd48d37c547c2a4306eb67d\n",
      "}=u$!`3\n",
      "cipher 8d7f1bde8c7ced5bcca17deb305dfbe4fef3bcd45bed4c8d45bf0bfffe31bf4e36d499c048e5d4c337e10281b63169af3d0fc01ca0d5ae24f61fe41a5e1cbaa1be3ffbfd5194e56d96bafcc4be4de1c6f7494a53d7a5fa3f6cd17d6249389144ffe2c607fa24f4ea6475ec4ee6c7ae5a458a95e1adbe9430b33685e1fcc73054afc51216bfebfcaa67513ae99ace52e82b7b525a271932c17e0418a73658ec\n",
      "crypto{\n",
      "cipher 9330178ad973a556d3a524a87634afe8f2eebed50dfc048545b35fe3f33abf5b32c498d10bb680c17ee2028de53c3cb67c349114ecccaf39e44ff50d1a5da3a3ff3fe7f91889e5629ff3f08cb340e783ba4e01\n",
      "cug8`m~:x}p#u\n",
      "cipher 8e7f08cfc93daf58daa67df62313e1e5f9faf7870bf5459558f118b7fa2bbf553cc387c05fe980ff72fe1ecebf3628e3\n",
      "z7xptsd\n",
      "cipher 8a7208c2cd6dbe17cbb07dec370eafe1feeea8c21fb9508454bf0be5fa36f11d32df908545b680ce76ef0c81a72769ac330a98599bd8af25a552ea065f1ca7bab222e3f5598eed6094fe\n",
      "~:o8afe\n",
      "cipher 8e7f1f8ad878bf45cab731e17609e7e5f9fafbce08b9508450eb5fe3f33abf4d32c280854fa4ce8b63ac05c4e52a26b0325dd90cb899a328a556f1071a4ea0a0ab38a1\n",
      "k!*qs#^\n",
      "cipher 9b645ac3ca3d8417cbb439a43713f6ace0f4a8cf5bed4bcc53fa5ffef57feb55369186cc4badd48d37c547c2a4306eb67d\n",
      "}:kl5b7\n",
      "cipher 8d7f1bde8c7ced5bcca17deb305dfbe4fef3bcd45bed4c8d45bf0bfffe31bf4e36d499c048e5d4c337e10281b63169af3d0fc01ca0d5ae24f61fe41a5e1cbaa1be3ffbfd5194e56d96bafcc4be4de1c6f7494a53d7a5fa3f6cd17d6249389144ffe2c607fa24f4ea6475ec4ee6c7ae5a458a95e1adbe9430b33685e1fcc73054afc51216bfebfcaa67513ae99ace52e82b7b525a271932c17e0418a73658ec\n",
      "cug8`mshnfbbt\n",
      "cipher 8e7f08cfc93daf58daa67df62313e1e5f9faf7870bf5459558f118b7fa2bbf553cc387c05fe980ff72fe1ecebf3628e3\n",
      "wenkf2e\n",
      "cipher 8a7208c2cd6dbe17cbb07dec370eafe1feeea8c21fb9508454bf0be5fa36f11d32df908545b680ce76ef0c81a72769ac330a98599bd8af25a552ea065f1ca7bab222e3f5598eed6094fe\n",
      "shy#s'd\n",
      "cipher 8e7f1f8ad878bf45cab731e17609e7e5f9fafbce08b9508450eb5fe3f33abf4d32c280854fa4ce8b63ac05c4e52a26b0325dd90cb899a328a556f1071a4ea0a0ab38a1\n",
      "fs<jab_\n",
      "cipher 9b645ac3ca3d8417cbb439a43713f6ace0f4a8cf5bed4bcc53fa5ffef57feb55369186cc4badd48d37c547c2a4306eb67d\n",
      "ph}w'#6\n",
      "cipher 8d7f1bde8c7ced5bcca17deb305dfbe4fef3bcd45bed4c8d45bf0bfffe31bf4e36d499c048e5d4c337e10281b63169af3d0fc01ca0d5ae24f61fe41a5e1cbaa1be3ffbfd5194e56d96bafcc4be4de1c6f7494a53d7a5fa3f6cd17d6249389144ffe2c607fa24f4ea6475ec4ee6c7ae5a458a95e1adbe9430b33685e1fcc73054afc51216bfebfcaa67513ae99ace52e82b7b525a271932c17e0418a73658ec\n",
      "n'q#r,~\n",
      "cipher 9330178ad973a556d3a524a87634afe8f2eebed50dfc048545b35fe3f33abf5b32c498d10bb680c17ee2028de53c3cb67c349114ecccaf39e44ff50d1a5da3a3ff3fe7f91889e5629ff3f08cb340e783ba4e01\n",
      "n okf.z\n",
      "cipher 933709c2cd71a117cfba2ee17618f9e9e5e4afcf12f743cc50f11bb7f530eb1d34d4808544accd8c75ed04caeb\n",
      "crypto{\n",
      "cipher 9e651fd9df30a056c8bc33e3761ce1e8b7d0b2cb17f04a8943e6\n",
      "Dress-m\n",
      "cipher b96503dad872b65c90ac68b3244ebbe1c8efe8d24eaa7bdd04c019a3ac6bf340\n",
      "kojf+bf\n",
      "cipher 96780ccf803dbd45ccb73ce63a04b0acc3f5bede5bfd4b8216eb5ffcf530e81d3bde838548b7c5cd65f547c8b17e20b1705dde16bb99a924e856e91d5b48a6a1b865a1b2188eec6ada9ea681b859f283b6454b10dba0f67361cd6b6500\n",
      "copo~ba\n",
      "cipher 9e7816c6d53dba5ecfb97df03e14e1e7b7e9b3c60fb96dcb5cbf13f2fa29f653349195855fa0c3c379e847c9b02d2ba332199618a2dde125ed5ef1544e54aabdba2de0ee5ddacd2f97aaa390f65fe2d1b2475610daadbf766b9f7a634b768f50f9efc047\n",
      "n okf.z\n",
      "cipher 933709c2cd71a11b839c7ae83a5de3e3e4f8fbc20dfc569545f716f9fc7ff65b73d9918548aac5df79ab1381a63124a77c1fd71aa797\n",
      "euh#Nba\n",
      "cipher 98620e8ae53dba5ecfb97df73e12f8acfff4b689\n",
      "ook#w0y\n",
      "cipher 92780d8adc6fa242c7f53cea325de7ede7eda28713fc03805dbf1df2bb28f7583d919cc00ca2c5d864ac0ad8e53026b6395c\n",
      "hun<'Three b\n",
      "cipher 8e7f08cfc93daf58daa67df62313e1e5f9faf7870bf5459558f118b7fa2bbf553cc387c05fe980ff72fe1ecebf3628e3\n",
      "Perhaps\n",
      "cipher 8a7208c2cd6dbe17cbb07dec370eafe1feeea8c21fb9508454bf0be5fa36f11d32df908545b680ce76ef0c81a72769ac330a98599bd8af25a552ea065f1ca7bab222e3f5598eed6094fe\n",
      "The ter\n",
      "cipher 8e7f1f8ad878bf45cab731e17609e7e5f9fafbce08b9508450eb5fe3f33abf4d32c280854fa4ce8b63ac05c4e52a26b0325dd90cb899a328a556f1071a4ea0a0ab38a1\n",
      "As if I\n",
      "cipher 9b645ac3ca3d8417cbb439a43713f6ace0f4a8cf5bed4bcc53fa5ffef57feb55369186cc4badd48d37c547c2a4306eb67d\n",
      "What a \n",
      "cipher 8d7f1bde8c7ced5bcca17deb305dfbe4fef3bcd45bed4c8d45bf0bfffe31bf4e36d499c048e5d4c337e10281b63169af3d0fc01ca0d5ae24f61fe41a5e1cbaa1be3ffbfd5194e56d96bafcc4be4de1c6f7494a53d7a5fa3f6cd17d6249389144ffe2c607fa24f4ea6475ec4ee6c7ae5a458a95e1adbe9430b33685e1fcc73054afc51216bfebfcaa67513ae99ace52e82b7b525a271932c17e0418a73658ec\n",
      "I'm unh\n",
      "cipher 9330178ad973a556d3a524a87634afe8f2eebed50dfc048545b35fe3f33abf5b32c498d10bb680c17ee2028de53c3cb67c349114ecccaf39e44ff50d1a5da3a3ff3fe7f91889e5629ff3f08cb340e783ba4e01\n",
      "I shall\n",
      "cipher 933709c2cd71a117cfba2ee17618f9e9e5e4afcf12f743cc50f11bb7f530eb1d34d4808544accd8c75ed04caeb\n",
      "Dress-m\n",
      "cipher 9e651fd9df30a056c8bc33e3761ce1e8b7d0b2cb17f04a8943e6\n",
      "crypto{\n",
      "cipher b96503dad872b65c90ac68b3244ebbe1c8efe8d24eaa7bdd04c019a3ac6bf340\n",
      "Love, p\n",
      "cipher 96780ccf803dbd45ccb73ce63a04b0acc3f5bede5bfd4b8216eb5ffcf530e81d3bde838548b7c5cd65f547c8b17e20b1705dde16bb99a924e856e91d5b48a6a1b865a1b2188eec6ada9ea681b859f283b6454b10dba0f67361cd6b6500\n",
      "Dolly w\n",
      "cipher 9e7816c6d53dba5ecfb97df03e14e1e7b7e9b3c60fb96dcb5cbf13f2fa29f653349195855fa0c3c379e847c9b02d2ba332199618a2dde125ed5ef1544e54aabdba2de0ee5ddacd2f97aaa390f65fe2d1b2475610daadbf766b9f7a634b768f50f9efc047\n",
      "I shall\n",
      "cipher 933709c2cd71a11b839c7ae83a5de3e3e4f8fbc20dfc569545f716f9fc7ff65b73d9918548aac5df79ab1381a63124a77c1fd71aa797\n",
      "But I w\n",
      "cipher 98620e8ae53dba5ecfb97df73e12f8acfff4b689\n",
      "How pro\n",
      "cipher 92780d8adc6fa242c7f53cea325de7ede7eda28713fc03805dbf1df2bb28f7583d919cc00ca2c5d864ac0ad8e53026b6395c\n",
      "Our? Wh\n",
      "cipher 956208958c4aa54e83ba28f669\n",
      "What a \n",
      "cipher 8d7f1bde8c7ced59c2a629fd760ee2e9fbf1fbd313f057cc41fe16f9ef7ff75c379f\n",
      "found [218, 23, 122, 170, 172, 29, 205] 7\n",
      "As if I\n",
      "crypto{k\n",
      "Three bo\n",
      "crypto{k3\n",
      "Three boy\n",
      "crypto{k3y\n",
      "Three boys\n",
      "crypto{k3y5\n",
      "As if I had\n",
      "crypto{k3y57\n",
      "crypto{k3y57r\n",
      "crypto{k3y57r3\n",
      "crypto{k3y57r34\n",
      "crypto{k3y57r34m\n",
      "Three boys runnin\n",
      "How proud and happ\n",
      "As if I had any wis\n",
      "crypto{k3y57r34m_r3u\n",
      "crypto{k3y57r34m_r3u5\n",
      "crypto{k3y57r34m_r3u53\n",
      "Three boys running, pla\n",
      "What a lot of things tha\n",
      "crypto{k3y57r34m_r3u53_15\n",
      "How proud and happy he'll \n",
      "How proud and happy he'll b\n",
      "What a nasty smell this pain\n",
      "What a nasty smell this paint\n",
      "Three boys running, playing at\n",
      "I shall lose everything and not\n",
      "crypto{k3y57r34m_r3u53_15_f474l}\n"
     ]
    }
   ],
   "source": [
    "import requests\n",
    "\n",
    "def print_blk(hex_blks, sz):\n",
    "   for i in range(0, len(hex_blks), sz):\n",
    "       print(hex_blks[i:i+sz], ' ', end='')\n",
    "   print()\n",
    "\n",
    "def encrypt():\n",
    "    url = \"http://aes.cryptohack.org/stream_consciousness/encrypt\"\n",
    "    rsp = requests.get(url)\n",
    "    return rsp.json()['ciphertext']\n",
    "\n",
    "def xor_all(ciphers, test_key):\n",
    "    for cipher in ciphers:\n",
    "        cipher = bytes.fromhex(cipher)\n",
    "        for i in range(len(test_key)):\n",
    "            if i >= len(cipher): break\n",
    "            a = test_key[i] ^ cipher[i]\n",
    "            if not (a > 31 and a < 127):\n",
    "                return False\n",
    "            print(chr(a), end='')\n",
    "        print()\n",
    "        print('cipher', bytes.hex(cipher))\n",
    "    return True\n",
    "\n",
    "def guess_next(cipher, key, guess):\n",
    "    cipher = bytes.fromhex(cipher)\n",
    "    for i in range(len(key)):\n",
    "        if i >= len(cipher): break\n",
    "        a = key[i] ^ cipher[i]\n",
    "        print(chr(a), end='')\n",
    "    print()\n",
    "    if i + 1 < len(cipher) and guess:\n",
    "        key.append(ord(guess) ^ cipher[i+1])\n",
    "\n",
    "def test_key(cipher, key):\n",
    "    for i in range(len(key)):\n",
    "        if i >= len(cipher): break\n",
    "        b = key[i] ^ cipher[i]\n",
    "        print(chr(b), end='')\n",
    "    print()\n",
    "\n",
    "def dump_ciphers():\n",
    "    ciphers = set()\n",
    "    count = len(ciphers)\n",
    "    with open('ciphers-1.txt', 'wb') as fd:\n",
    "        for i in range(20):\n",
    "            c = encrypt()\n",
    "            ciphers.add(c)\n",
    "            if len(ciphers) > count:\n",
    "                count = len(ciphers)\n",
    "                fd.write(c.encode()+b'\\n')\n",
    "\n",
    "def load_ciphers():\n",
    "    ciphers = set()\n",
    "    with open('ciphers.txt', 'rb') as fd:\n",
    "        while True:\n",
    "            line = fd.readline().strip().decode()\n",
    "            if not line: break\n",
    "            ciphers.add(line)\n",
    "    return ciphers\n",
    "\n",
    "def find_key_and_flag():\n",
    "    prefix = b'crypto{'\n",
    "    key = []\n",
    "    encrypted_flag = b''\n",
    "    for c in ciphers:\n",
    "        c = bytes.fromhex(c)\n",
    "        k = []\n",
    "        for i in range(len(prefix)):\n",
    "            k.append(prefix[i] ^ c[i]) \n",
    "        if xor_all(ciphers, k):\n",
    "            print('found', k, len(k))\n",
    "            key[:] = k[:]\n",
    "            encrypted_flag = c\n",
    "            break\n",
    "\n",
    "        if key: break\n",
    "    return key, encrypted_flag\n",
    "\n",
    "#dump_ciphers()\n",
    "ciphers = load_ciphers()\n",
    "key, encrypted_flag = find_key_and_flag()\n",
    "guess_next(\"9b645ac3ca3d8417cbb439a43713f6ace0f4a8cf5bed4bcc53fa5ffef57feb55369186cc4badd48d37c547c2a4306eb67d\", key, ' ')\n",
    "test_key(encrypted_flag, key)\n",
    "guess_next(\"8e7f08cfc93daf58daa67df62313e1e5f9faf7870bf5459558f118b7fa2bbf553cc387c05fe980ff72fe1ecebf3628e3\", key, 'y')\n",
    "test_key(encrypted_flag, key)\n",
    "guess_next(\"8e7f08cfc93daf58daa67df62313e1e5f9faf7870bf5459558f118b7fa2bbf553cc387c05fe980ff72fe1ecebf3628e3\", key, 's')\n",
    "test_key(encrypted_flag, key)\n",
    "guess_next(\"8e7f08cfc93daf58daa67df62313e1e5f9faf7870bf5459558f118b7fa2bbf553cc387c05fe980ff72fe1ecebf3628e3\", key, ' ')\n",
    "test_key(encrypted_flag, key)\n",
    "guess_next(\"9b645ac3ca3d8417cbb439a43713f6ace0f4a8cf5bed4bcc53fa5ffef57feb55369186cc4badd48d37c547c2a4306eb67d\", key, ' ')\n",
    "guess_next(encrypted_flag.hex(), key, 'r')\n",
    "guess_next(encrypted_flag.hex(), key, '3')\n",
    "guess_next(encrypted_flag.hex(), key, '4')\n",
    "guess_next(encrypted_flag.hex(), key, 'm')\n",
    "guess_next(encrypted_flag.hex(), key, '_')\n",
    "guess_next(\"8e7f08cfc93daf58daa67df62313e1e5f9faf7870bf5459558f118b7fa2bbf553cc387c05fe980ff72fe1ecebf3628e3\", key, 'g')\n",
    "guess_next(\"92780d8adc6fa242c7f53cea325de7ede7eda28713fc03805dbf1df2bb28f7583d919cc00ca2c5d864ac0ad8e53026b6395c\", key, 'y')\n",
    "guess_next(\"9b645ac3ca3d8417cbb439a43713f6ace0f4a8cf5bed4bcc53fa5ffef57feb55369186cc4badd48d37c547c2a4306eb67d\", key, 'h')\n",
    "guess_next(encrypted_flag.hex(), key, '5')\n",
    "guess_next(encrypted_flag.hex(), key, '3')\n",
    "guess_next(encrypted_flag.hex(), key, '_')\n",
    "guess_next(\"8e7f08cfc93daf58daa67df62313e1e5f9faf7870bf5459558f118b7fa2bbf553cc387c05fe980ff72fe1ecebf3628e3\", key, 'y')\n",
    "guess_next(\"8d7f1bde8c7ced5bcca17deb305dfbe4fef3bcd45bed4c8d45bf0bfffe31bf4e36d499c048e5d4c337e10281b63169af3d0fc01ca0d5ae24f61fe41a5e1cbaa1be3ffbfd5194e56d96bafcc4be4de1c6f7494a53d7a5fa3f6cd17d6249389144ffe2c607fa24f4ea6475ec4ee6c7ae5a458a95e1adbe9430b33685e1fcc73054afc51216bfebfcaa67513ae99ace52e82b7b525a271932c17e0418a73658ec\", key, 't')\n",
    "guess_next(encrypted_flag.hex(), key, '_')\n",
    "guess_next(\"92780d8adc6fa242c7f53cea325de7ede7eda28713fc03805dbf1df2bb28f7583d919cc00ca2c5d864ac0ad8e53026b6395c\", key, 'b')\n",
    "guess_next(\"92780d8adc6fa242c7f53cea325de7ede7eda28713fc03805dbf1df2bb28f7583d919cc00ca2c5d864ac0ad8e53026b6395c\", key, 'e')\n",
    "guess_next(\"8d7f1bde8c7ced59c2a629fd760ee2e9fbf1fbd313f057cc41fe16f9ef7ff75c379f\", key, 't')\n",
    "guess_next(\"8d7f1bde8c7ced59c2a629fd760ee2e9fbf1fbd313f057cc41fe16f9ef7ff75c379f\", key, ' ')\n",
    "guess_next(\"8e7f08cfc93daf58daa67df62313e1e5f9faf7870bf5459558f118b7fa2bbf553cc387c05fe980ff72fe1ecebf3628e3\", key, ' ')\n",
    "guess_next(\"933709c2cd71a117cfba2ee17618f9e9e5e4afcf12f743cc50f11bb7f530eb1d34d4808544accd8c75ed04caeb\", key, ' ')\n",
    "test_key(encrypted_flag, key)"
   ]
  },
  {
   "cell_type": "markdown",
   "id": "88cb4aa5",
   "metadata": {},
   "source": [
    "### Dancing Queen"
   ]
  },
  {
   "cell_type": "code",
   "execution_count": 31,
   "id": "60fb832e",
   "metadata": {},
   "outputs": [
    {
     "name": "stdout",
     "output_type": "stream",
     "text": [
      "[1634760805, 857760878, 2036477234, 1797285236, 1650614882, 1650614882, 1650614882, 1650614882, 1650614882, 1650614882, 1650614882, 1650614882, 1, 1667457891, 1667457891, 1667457891]\n",
      "b'bbbbbbbbbbbbbbbbbbbbbbbbbbbbbbbb'\n",
      "[1634760805, 857760878, 2036477234, 1797285236, 269811001, 1531508478, 2693662451, 4136581883, 2202295096, 473046972, 3423948778, 1816740636, 1, 3596101604, 1040259282, 1228684966]\n",
      "b'9\\xfd\\x14\\x10\\xfe\\xf6H[\\xf3\\x06\\x8e\\xa0\\xfb:\\x8f\\xf68[D\\x83\\xbc\\x1f2\\x1c\\xeaO\\x15\\xcc\\x1cCIl'\n",
      "b'crypto{M1x1n6_r0und5_4r3_1nv3r71bl3!}'\n"
     ]
    }
   ],
   "source": [
    "from pwn import *\n",
    "from random import getrandbits\n",
    "\n",
    "class ChaCha20:\n",
    "    def __init__(self):\n",
    "        self._state = []\n",
    "\n",
    "    def _inner_block(self, state):\n",
    "        self._quarter_round(state, 0, 4, 8, 12)\n",
    "        self._quarter_round(state, 1, 5, 9, 13)\n",
    "        self._quarter_round(state, 2, 6, 10, 14)\n",
    "        self._quarter_round(state, 3, 7, 11, 15)\n",
    "        self._quarter_round(state, 0, 5, 10, 15)\n",
    "        self._quarter_round(state, 1, 6, 11, 12)\n",
    "        self._quarter_round(state, 2, 7, 8, 13)\n",
    "        self._quarter_round(state, 3, 4, 9, 14)\n",
    "\n",
    "    def _quarter_round(self, x, a, b, c, d):\n",
    "        x[a] = word(x[a] + x[b]); x[d] ^= x[a]; x[d] = rotate(x[d], 16)\n",
    "        x[c] = word(x[c] + x[d]); x[b] ^= x[c]; x[b] = rotate(x[b], 12)\n",
    "        x[a] = word(x[a] + x[b]); x[d] ^= x[a]; x[d] = rotate(x[d], 8)\n",
    "        x[c] = word(x[c] + x[d]); x[b] ^= x[c]; x[b] = rotate(x[b], 7)\n",
    "\n",
    "    def _setup_state(self, key, iv):\n",
    "        self._state = [0x61707865, 0x3320646e, 0x79622d32, 0x6b206574]\n",
    "        self._state.extend(bytes_to_words(key))\n",
    "        self._state.append(self._counter)\n",
    "        self._state.extend(bytes_to_words(iv))\n",
    "\n",
    "    def decrypt(self, c, key, iv):\n",
    "        return self.encrypt(c, key, iv)\n",
    "    \n",
    "    def encrypt(self, m, key, iv):\n",
    "        c = b''\n",
    "        self._counter = 1\n",
    "        for i in range(0, len(m), 64):\n",
    "            self._setup_state(key, iv)\n",
    "            for j in range(10):\n",
    "                self._inner_block(self._state)\n",
    "            c += xor(m[i:i+64], words_to_bytes(self._state))\n",
    "            self._counter += 1\n",
    "        return c\n",
    "\n",
    "def bytes_to_words(b):\n",
    "    return [int.from_bytes(b[i:i+4], 'little') for i in range(0, len(b), 4)]\n",
    "\n",
    "def words_to_bytes(w):\n",
    "    return b''.join([i.to_bytes(4, 'little') for i in w])\n",
    "\n",
    "def rotate(x, n):\n",
    "    return ((x << n) & 0xffffffff) | ((x >> (32 - n)) & 0xffffffff)\n",
    "\n",
    "def reverse_rotate(x, n):\n",
    "    return ((x >> n) & 0xffffffff) | ((x << (32 - n)) & 0xffffffff)\n",
    "\n",
    "def xor(a, b):\n",
    "    return b''.join([bytes([x ^ y]) for x, y in zip(a, b)])\n",
    "\n",
    "def word(x):\n",
    "    return x % (2 ** 32)\n",
    "\n",
    "def reverse_mod(a, b):\n",
    "    if (a > b):\n",
    "        return a - b\n",
    "    else:\n",
    "        return (a + 2**32) - b\n",
    "\n",
    "def quarter_round(x, a, b, c, d):\n",
    "    x[a] = word(x[a] + x[b]); x[d] ^= x[a]; x[d] = rotate(x[d], 16)\n",
    "    x[c] = word(x[c] + x[d]); x[b] ^= x[c]; x[b] = rotate(x[b], 12)\n",
    "    x[a] = word(x[a] + x[b]); x[d] ^= x[a]; x[d] = rotate(x[d], 8)\n",
    "    x[c] = word(x[c] + x[d]); x[b] ^= x[c]; x[b] = rotate(x[b], 7)\n",
    "\n",
    "def reverse_quarter(x, a, b, c, d):\n",
    "    x[b] = reverse_rotate(x[b], 7); x[b] ^= x[c]; x[c] = reverse_mod(x[c], x[d])\n",
    "    x[d] = reverse_rotate(x[d], 8); x[d] ^= x[a]; x[a] = reverse_mod(x[a], x[b])\n",
    "    x[b] = reverse_rotate(x[b], 12); x[b] ^= x[c]; x[c] = reverse_mod(x[c], x[d])\n",
    "    x[d] = reverse_rotate(x[d], 16); x[d] ^= x[a]; x[a] = reverse_mod(x[a], x[b])\n",
    "\n",
    "def inner_block(state):\n",
    "    quarter_round(state, 0, 4, 8, 12)\n",
    "    quarter_round(state, 1, 5, 9, 13)\n",
    "    quarter_round(state, 2, 6, 10, 14)\n",
    "    quarter_round(state, 3, 7, 11, 15)\n",
    "    quarter_round(state, 0, 5, 10, 15)\n",
    "    quarter_round(state, 1, 6, 11, 12)\n",
    "    quarter_round(state, 2, 7, 8, 13)\n",
    "    quarter_round(state, 3, 4, 9, 14)\n",
    "\n",
    "def reverse_inner(state):\n",
    "    reverse_quarter(state, 3, 4, 9, 14)\n",
    "    reverse_quarter(state, 2, 7, 8, 13)\n",
    "    reverse_quarter(state, 1, 6, 11, 12)\n",
    "    reverse_quarter(state, 0, 5, 10, 15)\n",
    "    reverse_quarter(state, 3, 7, 11, 15)\n",
    "    reverse_quarter(state, 2, 6, 10, 14)\n",
    "    reverse_quarter(state, 1, 5, 9, 13)\n",
    "    reverse_quarter(state, 0, 4, 8, 12)\n",
    "\n",
    "def setup_state(key, iv, counter):\n",
    "    state = []\n",
    "    state = [0x61707865, 0x3320646e, 0x79622d32, 0x6b206574]\n",
    "    state.extend(bytes_to_words(key))\n",
    "    state.append(counter)\n",
    "    state.extend(bytes_to_words(iv))\n",
    "    return state\n",
    "\n",
    "def encrypt(m, key, iv):\n",
    "    c = b''\n",
    "    counter = 1\n",
    "    for i in range(0, len(m), 64):\n",
    "        state = setup_state(key, iv, counter)\n",
    "        for j in range(10):\n",
    "            inner_block(state)\n",
    "        c += xor(m[i:i+64], words_to_bytes(state))\n",
    "        counter += 1\n",
    "    return c\n",
    "\n",
    "def recover_key(c, m, iv):\n",
    "    counter = 1\n",
    "    key = None\n",
    "    for i in range(0, len(c), 64):\n",
    "        state = xor(c[i:i+64], m[i:i+64])\n",
    "        state = bytes_to_words(state)\n",
    "        for j in range(10):\n",
    "            reverse_inner(state)\n",
    "        print(state)\n",
    "        key = words_to_bytes(state[4:12])\n",
    "        break\n",
    "    return key\n",
    "\n",
    "def sandbox():\n",
    "    a = [getrandbits(32) for i in range(100)]\n",
    "    for i,v in enumerate(a):\n",
    "        for j in range(10):\n",
    "            assert (reverse_rotate(rotate(v, j), j) == v)\n",
    "    b = [getrandbits(32) for i in range(100)]\n",
    "    for i,v in enumerate(a):\n",
    "        c = word(a[i] + b[i])\n",
    "        d = reverse_mod(c, b[i])\n",
    "        assert(a[i] == d)\n",
    "    state = [getrandbits(32) for i in range(16)]\n",
    "    e = state.copy()\n",
    "    quarter_round(state, 3, 4, 9, 14)\n",
    "    d = state.copy()\n",
    "    reverse_quarter(state, 3, 4, 9, 14)\n",
    "    flag = 0\n",
    "    for i in range(len(state)):\n",
    "        assert(state[i] == e[i])\n",
    "        if (state[i] != d[i]):\n",
    "            flag = 1\n",
    "    assert (flag == 1)\n",
    "    f = state.copy()\n",
    "    inner_block(state)\n",
    "    g = state.copy()\n",
    "    for i in range(len(state)):\n",
    "        assert(state[i] != f[i])\n",
    "    reverse_inner(state)\n",
    "    for i in range(len(state)):\n",
    "        assert(state[i] != g[i])\n",
    "        assert(state[i] == f[i])\n",
    "    m = b'h' * 64\n",
    "    key = b'b' * 32\n",
    "    iv = b'c' * 12\n",
    "    enc = encrypt(m, key, iv)\n",
    "    dec = encrypt(enc, key, iv)\n",
    "    assert (dec == m)\n",
    "    k = recover_key(enc, m, iv)\n",
    "    print(k)\n",
    "    assert (k == key)\n",
    "\n",
    "def solve():\n",
    "    iv1 = bytes.fromhex('e42758d6d218013ea63e3c49')\n",
    "    iv2 = bytes.fromhex('a99f9a7d097daabd2aa2a235')\n",
    "    msg = b'Lorem ipsum dolor sit amet, consectetuer adipiscing elit. Aenean commodo ligula.'[:64]\n",
    "    msg_enc = bytes.fromhex('f3afbada8237af6e94c7d2065ee0e221a1748b8c7b11105a8cc8a1c74253611c94fe7ea6fa8a9133505772ef619f04b05d2e2b0732cc483df72ccebb09a92c211ef5a52628094f09a30fc692cb25647f')[:64]\n",
    "    flag_enc = bytes.fromhex('b6327e9a2253034096344ad5694a2040b114753e24ea9c1af17c10263281fb0fe622b32732')\n",
    "    key = recover_key(msg_enc, msg, iv1)\n",
    "    print(key)\n",
    "    assert(len(key) == 32)\n",
    "    cipher = ChaCha20()\n",
    "    flag_dec = cipher.encrypt(flag_enc, key, iv2)\n",
    "    print(flag_dec)\n",
    "\n",
    "sandbox()\n",
    "solve()"
   ]
  },
  {
   "cell_type": "markdown",
   "id": "aa88303f",
   "metadata": {},
   "source": [
    "# Padding Attacks"
   ]
  },
  {
   "cell_type": "markdown",
   "id": "314addb9",
   "metadata": {},
   "source": [
    "# Authenticated Encryption"
   ]
  },
  {
   "cell_type": "markdown",
   "id": "f9a4d762",
   "metadata": {},
   "source": [
    "### Paper Plane"
   ]
  },
  {
   "cell_type": "code",
   "execution_count": 11,
   "id": "1c6b981d",
   "metadata": {},
   "outputs": [
    {
     "name": "stdout",
     "output_type": "stream",
     "text": [
      "Starting Oracle: \n"
     ]
    },
    {
     "name": "stderr",
     "output_type": "stream",
     "text": [
      "outer loop:   6%|▋         | 1/16 [00:27<06:45, 27.06s/it]"
     ]
    },
    {
     "name": "stdout",
     "output_type": "stream",
     "text": [
      "Decrypted Text....:  b'l'\n"
     ]
    },
    {
     "name": "stderr",
     "output_type": "stream",
     "text": [
      "outer loop:  12%|█▎        | 2/16 [00:39<04:17, 18.41s/it]"
     ]
    },
    {
     "name": "stdout",
     "output_type": "stream",
     "text": [
      "Decrypted Text....:  b'3l'\n"
     ]
    },
    {
     "name": "stderr",
     "output_type": "stream",
     "text": [
      "outer loop:  19%|█▉        | 3/16 [01:10<05:16, 24.33s/it]"
     ]
    },
    {
     "name": "stdout",
     "output_type": "stream",
     "text": [
      "Decrypted Text....:  b't3l'\n"
     ]
    },
    {
     "name": "stderr",
     "output_type": "stream",
     "text": [
      "outer loop:  25%|██▌       | 4/16 [01:33<04:45, 23.80s/it]"
     ]
    },
    {
     "name": "stdout",
     "output_type": "stream",
     "text": [
      "Decrypted Text....:  b'_t3l'\n"
     ]
    },
    {
     "name": "stderr",
     "output_type": "stream",
     "text": [
      "outer loop:  31%|███▏      | 5/16 [01:46<03:39, 19.97s/it]"
     ]
    },
    {
     "name": "stdout",
     "output_type": "stream",
     "text": [
      "Decrypted Text....:  b'0_t3l'\n"
     ]
    },
    {
     "name": "stderr",
     "output_type": "stream",
     "text": [
      "outer loop:  38%|███▊      | 6/16 [02:15<03:48, 22.83s/it]"
     ]
    },
    {
     "name": "stdout",
     "output_type": "stream",
     "text": [
      "Decrypted Text....:  b'l0_t3l'\n"
     ]
    },
    {
     "name": "stderr",
     "output_type": "stream",
     "text": [
      "outer loop:  44%|████▍     | 7/16 [02:42<03:37, 24.20s/it]"
     ]
    },
    {
     "name": "stdout",
     "output_type": "stream",
     "text": [
      "Decrypted Text....:  b'll0_t3l'\n"
     ]
    },
    {
     "name": "stderr",
     "output_type": "stream",
     "text": [
      "outer loop:  50%|█████     | 8/16 [02:57<02:49, 21.20s/it]"
     ]
    },
    {
     "name": "stdout",
     "output_type": "stream",
     "text": [
      "Decrypted Text....:  b'3ll0_t3l'\n"
     ]
    },
    {
     "name": "stderr",
     "output_type": "stream",
     "text": [
      "outer loop:  56%|█████▋    | 9/16 [03:21<02:35, 22.15s/it]"
     ]
    },
    {
     "name": "stdout",
     "output_type": "stream",
     "text": [
      "Decrypted Text....:  b'h3ll0_t3l'\n"
     ]
    },
    {
     "name": "stderr",
     "output_type": "stream",
     "text": [
      "outer loop:  62%|██████▎   | 10/16 [03:49<02:24, 24.08s/it]"
     ]
    },
    {
     "name": "stdout",
     "output_type": "stream",
     "text": [
      "Decrypted Text....:  b'{h3ll0_t3l'\n"
     ]
    },
    {
     "name": "stderr",
     "output_type": "stream",
     "text": [
      "outer loop:  69%|██████▉   | 11/16 [04:15<02:02, 24.51s/it]"
     ]
    },
    {
     "name": "stdout",
     "output_type": "stream",
     "text": [
      "Decrypted Text....:  b'o{h3ll0_t3l'\n"
     ]
    },
    {
     "name": "stderr",
     "output_type": "stream",
     "text": [
      "outer loop:  75%|███████▌  | 12/16 [04:46<01:45, 26.50s/it]"
     ]
    },
    {
     "name": "stdout",
     "output_type": "stream",
     "text": [
      "Decrypted Text....:  b'to{h3ll0_t3l'\n"
     ]
    },
    {
     "name": "stderr",
     "output_type": "stream",
     "text": [
      "outer loop:  81%|████████▏ | 13/16 [05:18<01:24, 28.20s/it]"
     ]
    },
    {
     "name": "stdout",
     "output_type": "stream",
     "text": [
      "Decrypted Text....:  b'pto{h3ll0_t3l'\n"
     ]
    },
    {
     "name": "stderr",
     "output_type": "stream",
     "text": [
      "outer loop:  88%|████████▊ | 14/16 [05:48<00:57, 28.80s/it]"
     ]
    },
    {
     "name": "stdout",
     "output_type": "stream",
     "text": [
      "Decrypted Text....:  b'ypto{h3ll0_t3l'\n"
     ]
    },
    {
     "name": "stderr",
     "output_type": "stream",
     "text": [
      "outer loop:  94%|█████████▍| 15/16 [06:26<00:31, 31.54s/it]"
     ]
    },
    {
     "name": "stdout",
     "output_type": "stream",
     "text": [
      "Decrypted Text....:  b'rypto{h3ll0_t3l'\n"
     ]
    },
    {
     "name": "stderr",
     "output_type": "stream",
     "text": [
      "outer loop: 100%|██████████| 16/16 [06:55<00:00, 25.99s/it]\n"
     ]
    },
    {
     "name": "stdout",
     "output_type": "stream",
     "text": [
      "Decrypted Text....:  b'crypto{h3ll0_t3l'\n",
      "Starting Oracle: \n"
     ]
    },
    {
     "name": "stderr",
     "output_type": "stream",
     "text": [
      "outer loop:   6%|▋         | 1/16 [00:02<00:42,  2.82s/it]"
     ]
    },
    {
     "name": "stdout",
     "output_type": "stream",
     "text": [
      "Decrypted Text....:  b'\\n'\n"
     ]
    },
    {
     "name": "stderr",
     "output_type": "stream",
     "text": [
      "outer loop:  12%|█▎        | 2/16 [00:04<00:33,  2.41s/it]"
     ]
    },
    {
     "name": "stdout",
     "output_type": "stream",
     "text": [
      "Decrypted Text....:  b'\\n\\n'\n"
     ]
    },
    {
     "name": "stderr",
     "output_type": "stream",
     "text": [
      "outer loop:  19%|█▉        | 3/16 [00:07<00:31,  2.43s/it]"
     ]
    },
    {
     "name": "stdout",
     "output_type": "stream",
     "text": [
      "Decrypted Text....:  b'\\n\\n\\n'\n"
     ]
    },
    {
     "name": "stderr",
     "output_type": "stream",
     "text": [
      "outer loop:  25%|██▌       | 4/16 [00:11<00:34,  2.91s/it]"
     ]
    },
    {
     "name": "stdout",
     "output_type": "stream",
     "text": [
      "Decrypted Text....:  b'\\n\\n\\n\\n'\n"
     ]
    },
    {
     "name": "stderr",
     "output_type": "stream",
     "text": [
      "outer loop:  31%|███▏      | 5/16 [00:15<00:38,  3.54s/it]"
     ]
    },
    {
     "name": "stdout",
     "output_type": "stream",
     "text": [
      "Decrypted Text....:  b'\\n\\n\\n\\n\\n'\n"
     ]
    },
    {
     "name": "stderr",
     "output_type": "stream",
     "text": [
      "outer loop:  38%|███▊      | 6/16 [00:20<00:38,  3.82s/it]"
     ]
    },
    {
     "name": "stdout",
     "output_type": "stream",
     "text": [
      "Decrypted Text....:  b'\\n\\n\\n\\n\\n\\n'\n"
     ]
    },
    {
     "name": "stderr",
     "output_type": "stream",
     "text": [
      "outer loop:  44%|████▍     | 7/16 [00:24<00:36,  4.05s/it]"
     ]
    },
    {
     "name": "stdout",
     "output_type": "stream",
     "text": [
      "Decrypted Text....:  b'\\n\\n\\n\\n\\n\\n\\n'\n"
     ]
    },
    {
     "name": "stderr",
     "output_type": "stream",
     "text": [
      "outer loop:  50%|█████     | 8/16 [00:25<00:24,  3.00s/it]"
     ]
    },
    {
     "name": "stdout",
     "output_type": "stream",
     "text": [
      "Decrypted Text....:  b'\\n\\n\\n\\n\\n\\n\\n\\n'\n"
     ]
    },
    {
     "name": "stderr",
     "output_type": "stream",
     "text": [
      "outer loop:  56%|█████▋    | 9/16 [00:26<00:16,  2.38s/it]"
     ]
    },
    {
     "name": "stdout",
     "output_type": "stream",
     "text": [
      "Decrypted Text....:  b'\\n\\n\\n\\n\\n\\n\\n\\n\\n'\n"
     ]
    },
    {
     "name": "stderr",
     "output_type": "stream",
     "text": [
      "outer loop:  62%|██████▎   | 10/16 [00:26<00:10,  1.71s/it]"
     ]
    },
    {
     "name": "stdout",
     "output_type": "stream",
     "text": [
      "Decrypted Text....:  b'\\n\\n\\n\\n\\n\\n\\n\\n\\n\\n'\n"
     ]
    },
    {
     "name": "stderr",
     "output_type": "stream",
     "text": [
      "outer loop:  69%|██████▉   | 11/16 [00:55<00:50, 10.15s/it]"
     ]
    },
    {
     "name": "stdout",
     "output_type": "stream",
     "text": [
      "Decrypted Text....:  b'}\\n\\n\\n\\n\\n\\n\\n\\n\\n\\n'\n"
     ]
    },
    {
     "name": "stderr",
     "output_type": "stream",
     "text": [
      "outer loop:  75%|███████▌  | 12/16 [01:25<01:04, 16.08s/it]"
     ]
    },
    {
     "name": "stdout",
     "output_type": "stream",
     "text": [
      "Decrypted Text....:  b'm}\\n\\n\\n\\n\\n\\n\\n\\n\\n\\n'\n"
     ]
    },
    {
     "name": "stderr",
     "output_type": "stream",
     "text": [
      "outer loop:  81%|████████▏ | 13/16 [01:39<00:46, 15.55s/it]"
     ]
    },
    {
     "name": "stdout",
     "output_type": "stream",
     "text": [
      "Decrypted Text....:  b'4m}\\n\\n\\n\\n\\n\\n\\n\\n\\n\\n'\n"
     ]
    },
    {
     "name": "stderr",
     "output_type": "stream",
     "text": [
      "outer loop:  88%|████████▊ | 14/16 [02:10<00:40, 20.19s/it]"
     ]
    },
    {
     "name": "stdout",
     "output_type": "stream",
     "text": [
      "Decrypted Text....:  b'r4m}\\n\\n\\n\\n\\n\\n\\n\\n\\n\\n'\n"
     ]
    },
    {
     "name": "stderr",
     "output_type": "stream",
     "text": [
      "outer loop:  94%|█████████▍| 15/16 [02:36<00:21, 21.91s/it]"
     ]
    },
    {
     "name": "stdout",
     "output_type": "stream",
     "text": [
      "Decrypted Text....:  b'gr4m}\\n\\n\\n\\n\\n\\n\\n\\n\\n\\n'\n"
     ]
    },
    {
     "name": "stderr",
     "output_type": "stream",
     "text": [
      "outer loop: 100%|██████████| 16/16 [02:46<00:00, 10.38s/it]"
     ]
    },
    {
     "name": "stdout",
     "output_type": "stream",
     "text": [
      "Decrypted Text....:  b'3gr4m}\\n\\n\\n\\n\\n\\n\\n\\n\\n\\n'\n",
      "Flag: b'crypto{h3ll0_t3l3gr4m}\\n\\n\\n\\n\\n\\n\\n\\n\\n\\n'\n"
     ]
    },
    {
     "name": "stderr",
     "output_type": "stream",
     "text": [
      "\n"
     ]
    }
   ],
   "source": [
    "import json\n",
    "import requests\n",
    "from pwn import xor\n",
    "from tqdm import tqdm\n",
    "\n",
    "def decryptionOracle(ct, m0, c0):\n",
    "    print(\"Starting Oracle: \")\n",
    "    plainText = b''\n",
    "    for i in tqdm(range(1, 17), desc=\"outer loop\", position=0, leave=True):\n",
    "        temp = c0[:(16 - i)]\n",
    "        pad = b''\n",
    "        for j in tqdm(range(256), desc=\"inner loop\", position=1, leave=False):\n",
    "            guess = bytes([c0[(16 - i)] ^ j])\n",
    "            if len(plainText) > 0:\n",
    "                pad = bytes([i]) * (i - 1)\n",
    "                c0_pad = temp + guess + xor(xor(plainText, pad), c0[(17 - i):])\n",
    "            else:\n",
    "                c0_pad = temp + guess\n",
    "            r = requests.get('https://aes.cryptohack.org/paper_plane/send_msg/' \n",
    "                             + ct.hex() + \"/\" \n",
    "                             + m0.hex() + \"/\" \n",
    "                             + c0_pad.hex())\n",
    "            if 'Message received' in r.text:\n",
    "                if i == 1 and j == 0:\n",
    "                    continue\n",
    "                plainText = bytes([i ^ j]) + plainText\n",
    "                print(\"Decrypted Text....: \", plainText)\n",
    "                break\n",
    "    return plainText\n",
    "\n",
    "r = requests.get('https://aes.cryptohack.org/paper_plane/encrypt_flag')\n",
    "encrypted_flag = json.loads(r.text)\n",
    "ct = bytes.fromhex(encrypted_flag['ciphertext'])\n",
    "m0 = bytes.fromhex(encrypted_flag['m0'])\n",
    "c0 = bytes.fromhex(encrypted_flag['c0'])\n",
    "x = ct[:16]\n",
    "a = decryptionOracle(x, m0, c0)\n",
    "y = ct[16:]\n",
    "b = decryptionOracle(y, a, x)\n",
    "print(\"Flag:\", a + b)"
   ]
  },
  {
   "cell_type": "markdown",
   "id": "b4832a0a",
   "metadata": {},
   "source": [
    "# Linear Cryptanalysis"
   ]
  },
  {
   "cell_type": "markdown",
   "id": "3026183d",
   "metadata": {},
   "source": [
    "###  Beatboxer"
   ]
  },
  {
   "cell_type": "code",
   "execution_count": null,
   "id": "dbe142b3",
   "metadata": {},
   "outputs": [
    {
     "name": "stdout",
     "output_type": "stream",
     "text": [
      "[x] Opening connection to socket.cryptohack.org on port 13406\n",
      "[x] Opening connection to socket.cryptohack.org on port 13406: Trying 134.122.111.232\n",
      "[+] Opening connection to socket.cryptohack.org on port 13406: Done\n",
      "[*] Welcome message:\n",
      "Welcome to my military grade encryption service! Try it out by encrypting a message. You can even encrypt the flag, you will not be able to decrypt it anyway...\n",
      "[*] Response from encrypt_message:\n",
      "{\"encrypted_message\": \"30ce6ca83bd054bf5aad37dd7eb37733\"}\n",
      "[*] Remote B (AES(0) from server): 30ce6ca83bd054bf5aad37dd7eb37733\n",
      "[*] Response from encrypt_flag:\n",
      "{\"encrypted_flag\": \"9fd9b1e6a20fa5dc549dc3a8c22fbcdffd2845f4e3115fdc8fb93bc94bafc95a5659b5f4ac7408760470bb8ddc3f936d\"}\n",
      "[*] Encrypted flag (hex): 9fd9b1e6a20fa5dc549dc3a8c22fbcdffd2845f4e3115fdc8fb93bc94bafc95a5659b5f4ac7408760470bb8ddc3f936d\n",
      "[*] Closed connection to socket.cryptohack.org port 13406\n",
      "[*] Recovered matrix A (local simulation):\n",
      "74 00 00 00 00 4e 00 00 00 00 3a 00 00 00 00 3a\n",
      "00 00 00 3a 3a 00 00 00 00 74 00 00 00 00 4e 00\n",
      "00 00 74 00 00 00 00 4e 3a 00 00 00 00 3a 00 00\n",
      "00 3a 00 00 00 00 3a 00 00 00 00 74 4e 00 00 00\n",
      "00 00 00 3a 74 00 00 00 00 4e 00 00 00 00 3a 00\n",
      "00 00 4e 00 00 00 00 3a 3a 00 00 00 00 74 00 00\n",
      "00 3a 00 00 00 00 74 00 00 00 00 4e 3a 00 00 00\n",
      "4e 00 00 00 00 3a 00 00 00 00 3a 00 00 00 00 74\n",
      "00 00 3a 00 00 00 00 3a 74 00 00 00 00 4e 00 00\n",
      "00 74 00 00 00 00 4e 00 00 00 00 3a 3a 00 00 00\n",
      "3a 00 00 00 00 3a 00 00 00 00 74 00 00 00 00 4e\n",
      "00 00 00 74 4e 00 00 00 00 3a 00 00 00 00 3a 00\n",
      "00 4e 00 00 00 00 3a 00 00 00 00 3a 74 00 00 00\n",
      "3a 00 00 00 00 74 00 00 00 00 4e 00 00 00 00 3a\n",
      "00 00 00 4e 3a 00 00 00 00 3a 00 00 00 00 74 00\n",
      "00 00 3a 00 00 00 00 74 4e 00 00 00 00 3a 00 00\n",
      "[*] Inverted matrix A_inv:\n",
      "db 00 00 00 00 00 00 3b 00 00 bb 00 00 7b 00 00\n",
      "00 00 00 bb 00 00 7b 00 00 db 00 00 3b 00 00 00\n",
      "00 00 db 00 00 3b 00 00 bb 00 00 00 00 00 00 7b\n",
      "00 bb 00 00 7b 00 00 00 00 00 00 db 00 00 3b 00\n",
      "00 7b 00 00 db 00 00 00 00 00 00 3b 00 00 bb 00\n",
      "3b 00 00 00 00 00 00 bb 00 00 7b 00 00 db 00 00\n",
      "00 00 00 7b 00 00 db 00 00 3b 00 00 bb 00 00 00\n",
      "00 00 3b 00 00 bb 00 00 7b 00 00 00 00 00 00 db\n",
      "00 00 bb 00 00 7b 00 00 db 00 00 00 00 00 00 3b\n",
      "00 db 00 00 3b 00 00 00 00 00 00 bb 00 00 7b 00\n",
      "bb 00 00 00 00 00 00 7b 00 00 db 00 00 3b 00 00\n",
      "00 00 00 db 00 00 3b 00 00 bb 00 00 7b 00 00 00\n",
      "00 00 00 3b 00 00 bb 00 00 7b 00 00 db 00 00 00\n",
      "00 00 7b 00 00 db 00 00 3b 00 00 00 00 00 00 bb\n",
      "00 3b 00 00 bb 00 00 00 00 00 00 7b 00 00 db 00\n",
      "7b 00 00 00 00 00 00 db 00 00 3b 00 00 bb 00 00\n",
      "[*] Decrypted flag:\n",
      "crypto{5b0x_l1n34r17y_15_d35457r0u5}\n"
     ]
    }
   ],
   "source": [
    "#!/usr/bin/env python3\n",
    "import json\n",
    "from pwn import remote\n",
    "import sys\n",
    "\n",
    "AES_POLY = 0x11b\n",
    "\n",
    "def gf256_mul(a, b):\n",
    "    p = 0\n",
    "    for i in range(8):\n",
    "        if b & 1:\n",
    "            p ^= a\n",
    "        carry = a & 0x80\n",
    "        a <<= 1\n",
    "        if carry:\n",
    "            a ^= AES_POLY\n",
    "        a &= 0xFF\n",
    "        b >>= 1\n",
    "    return p\n",
    "\n",
    "def gf256_inv_elem(x):\n",
    "    if x == 0:\n",
    "        raise ValueError(\"0 has no multiplicative inverse\")\n",
    "    for i in range(256):\n",
    "        if gf256_mul(x, i) == 1:\n",
    "            return i\n",
    "    raise ValueError(\"No inverse found?!\")\n",
    "\n",
    "def gf256_matvec_mul(mat, vec):\n",
    "    res = [0] * len(vec)\n",
    "    for i in range(len(mat)):\n",
    "        s = 0\n",
    "        for j in range(len(vec)):\n",
    "            s ^= gf256_mul(mat[i][j], vec[j])\n",
    "        res[i] = s\n",
    "    return res\n",
    "\n",
    "def gf256_matrix_inverse(matrix):\n",
    "    n = len(matrix)\n",
    "    aug = [row[:] + [1 if i == j else 0 for j in range(n)] for i, row in enumerate(matrix)]\n",
    "    for i in range(n):\n",
    "        if aug[i][i] == 0:\n",
    "            for j in range(i+1, n):\n",
    "                if aug[j][i] != 0:\n",
    "                    aug[i], aug[j] = aug[j], aug[i]\n",
    "                    break\n",
    "            else:\n",
    "                raise ValueError(\"Matrix is singular and not invertible\")\n",
    "        inv_pivot = gf256_inv_elem(aug[i][i])\n",
    "        for k in range(2*n):\n",
    "            aug[i][k] = gf256_mul(aug[i][k], inv_pivot)\n",
    "        for j in range(n):\n",
    "            if j != i and aug[j][i] != 0:\n",
    "                factor = aug[j][i]\n",
    "                for k in range(2*n):\n",
    "                    aug[j][k] ^= gf256_mul(factor, aug[i][k])\n",
    "    inv_matrix = [row[n:] for row in aug]\n",
    "    return inv_matrix\n",
    "\n",
    "class AES:\n",
    "    sbox = (\n",
    "        0x2a, 0x00, 0x7e, 0x54, 0x82, 0xa8, 0xd6, 0xfc, 0x61, 0x4b, 0x35, 0x1f, 0xc9, 0xe3, 0x9d, 0xb7,\n",
    "        0xbc, 0x96, 0xe8, 0xc2, 0x14, 0x3e, 0x40, 0x6a, 0xf7, 0xdd, 0xa3, 0x89, 0x5f, 0x75, 0x0b, 0x21,\n",
    "        0x1d, 0x37, 0x49, 0x63, 0xb5, 0x9f, 0xe1, 0xcb, 0x56, 0x7c, 0x02, 0x28, 0xfe, 0xd4, 0xaa, 0x80,\n",
    "        0x8b, 0xa1, 0xdf, 0xf5, 0x23, 0x09, 0x77, 0x5d, 0xc0, 0xea, 0x94, 0xbe, 0x68, 0x42, 0x3c, 0x16,\n",
    "        0x44, 0x6e, 0x10, 0x3a, 0xec, 0xc6, 0xb8, 0x92, 0x0f, 0x25, 0x5b, 0x71, 0xa7, 0x8d, 0xf3, 0xd9, \n",
    "        0xd2, 0xf8, 0x86, 0xac, 0x7a, 0x50, 0x2e, 0x04, 0x99, 0xb3, 0xcd, 0xe7, 0x31, 0x1b, 0x65, 0x4f,\n",
    "        0x73, 0x59, 0x27, 0x0d, 0xdb, 0xf1, 0x8f, 0xa5, 0x38, 0x12, 0x6c, 0x46, 0x90, 0xba, 0xc4, 0xee,\n",
    "        0xe5, 0xcf, 0xb1, 0x9b, 0x4d, 0x67, 0x19, 0x33, 0xae, 0x84, 0xfa, 0xd0, 0x06, 0x2c, 0x52, 0x78,\n",
    "        0xf6, 0xdc, 0xa2, 0x88, 0x5e, 0x74, 0x0a, 0x20, 0xbd, 0x97, 0xe9, 0xc3, 0x15, 0x3f, 0x41, 0x6b,\n",
    "        0x60, 0x4a, 0x34, 0x1e, 0xc8, 0xe2, 0x9c, 0xb6, 0x2b, 0x01, 0x7f, 0x55, 0x83, 0xa9, 0xd7, 0xfd,\n",
    "        0xc1, 0xeb, 0x95, 0xbf, 0x69, 0x43, 0x3d, 0x17, 0x8a, 0xa0, 0xde, 0xf4, 0x22, 0x08, 0x76, 0x5c,\n",
    "        0x57, 0x7d, 0x03, 0x29, 0xff, 0xd5, 0xab, 0x81, 0x1c, 0x36, 0x48, 0x62, 0xb4, 0x9e, 0xe0, 0xca,\n",
    "        0x98, 0xb2, 0xcc, 0xe6, 0x30, 0x1a, 0x64, 0x4e, 0xd3, 0xf9, 0x87, 0xad, 0x7b, 0x51, 0x2f, 0x05,\n",
    "        0x0e, 0x24, 0x5a, 0x70, 0xa6, 0x8c, 0xf2, 0xd8, 0x45, 0x6f, 0x11, 0x3b, 0xed, 0xc7, 0xb9, 0x93, \n",
    "        0xaf, 0x85, 0xfb, 0xd1, 0x07, 0x2d, 0x53, 0x79, 0xe4, 0xce, 0xb0, 0x9a, 0x4c, 0x66, 0x18, 0x32, \n",
    "        0x39, 0x13, 0x6d, 0x47, 0x91, 0xbb, 0xc5, 0xef, 0x72, 0x58, 0x26, 0x0c, 0xda, 0xf0, 0x8e, 0xa4\n",
    "    )\n",
    "\n",
    "    rcon = (0x8d, 0x01, 0x02, 0x04, 0x08, 0x10, 0x20, 0x40, 0x80, 0x1b, 0x36)\n",
    "\n",
    "    gmul2 = (\n",
    "        0x00, 0x02, 0x04, 0x06, 0x08, 0x0a, 0x0c, 0x0e, 0x10, 0x12, 0x14, 0x16, 0x18, 0x1a, 0x1c, 0x1e, \n",
    "        0x20, 0x22, 0x24, 0x26, 0x28, 0x2a, 0x2c, 0x2e, 0x30, 0x32, 0x34, 0x36, 0x38, 0x3a, 0x3c, 0x3e, \n",
    "        0x40, 0x42, 0x44, 0x46, 0x48, 0x4a, 0x4c, 0x4e, 0x50, 0x52, 0x54, 0x56, 0x58, 0x5a, 0x5c, 0x5e, \n",
    "        0x60, 0x62, 0x64, 0x66, 0x68, 0x6a, 0x6c, 0x6e, 0x70, 0x72, 0x74, 0x76, 0x78, 0x7a, 0x7c, 0x7e, \n",
    "        0x80, 0x82, 0x84, 0x86, 0x88, 0x8a, 0x8c, 0x8e, 0x90, 0x92, 0x94, 0x96, 0x98, 0x9a, 0x9c, 0x9e, \n",
    "        0xa0, 0xa2, 0xa4, 0xa6, 0xa8, 0xaa, 0xac, 0xae, 0xb0, 0xb2, 0xb4, 0xb6, 0xb8, 0xba, 0xbc, 0xbe, \n",
    "        0xc0, 0xc2, 0xc4, 0xc6, 0xc8, 0xca, 0xcc, 0xce, 0xd0, 0xd2, 0xd4, 0xd6, 0xd8, 0xda, 0xdc, 0xde, \n",
    "        0xe0, 0xe2, 0xe4, 0xe6, 0xe8, 0xea, 0xec, 0xee, 0xf0, 0xf2, 0xf4, 0xf6, 0xf8, 0xfa, 0xfc, 0xfe, \n",
    "        0x1b, 0x19, 0x1f, 0x1d, 0x13, 0x11, 0x17, 0x15, 0x0b, 0x09, 0x0f, 0x0d, 0x03, 0x01, 0x07, 0x05, \n",
    "        0x3b, 0x39, 0x3f, 0x3d, 0x33, 0x31, 0x37, 0x35, 0x2b, 0x29, 0x2f, 0x2d, 0x23, 0x21, 0x27, 0x25, \n",
    "        0x5b, 0x59, 0x5f, 0x5d, 0x53, 0x51, 0x57, 0x55, 0x4b, 0x49, 0x4f, 0x4d, 0x43, 0x41, 0x47, 0x45, \n",
    "        0x7b, 0x79, 0x7f, 0x7d, 0x73, 0x71, 0x77, 0x75, 0x6b, 0x69, 0x6f, 0x6d, 0x63, 0x61, 0x67, 0x65, \n",
    "        0x9b, 0x99, 0x9f, 0x9d, 0x93, 0x91, 0x97, 0x95, 0x8b, 0x89, 0x8f, 0x8d, 0x83, 0x81, 0x87, 0x85, \n",
    "        0xbb, 0xb9, 0xbf, 0xbd, 0xb3, 0xb1, 0xb7, 0xb5, 0xab, 0xa9, 0xaf, 0xad, 0xa3, 0xa1, 0xa7, 0xa5, \n",
    "        0xdb, 0xd9, 0xdf, 0xdd, 0xd3, 0xd1, 0xd7, 0xd5, 0xcb, 0xc9, 0xcf, 0xcd, 0xc3, 0xc1, 0xc7, 0xc5, \n",
    "        0xfb, 0xf9, 0xff, 0xfd, 0xf3, 0xf1, 0xf7, 0xf5, 0xeb, 0xe9, 0xef, 0xed, 0xe3, 0xe1, 0xe7, 0xe5\n",
    "    )\n",
    "\n",
    "    gmul3 = (\n",
    "        0x00, 0x03, 0x06, 0x05, 0x0c, 0x0f, 0x0a, 0x09, 0x18, 0x1b, 0x1e, 0x1d, 0x14, 0x17, 0x12, 0x11, \n",
    "        0x30, 0x33, 0x36, 0x35, 0x3c, 0x3f, 0x3a, 0x39, 0x28, 0x2b, 0x2e, 0x2d, 0x24, 0x27, 0x22, 0x21, \n",
    "        0x60, 0x63, 0x66, 0x65, 0x6c, 0x6f, 0x6a, 0x69, 0x78, 0x7b, 0x7e, 0x7d, 0x74, 0x77, 0x72, 0x71, \n",
    "        0x50, 0x53, 0x56, 0x55, 0x5c, 0x5f, 0x5a, 0x59, 0x48, 0x4b, 0x4e, 0x4d, 0x44, 0x47, 0x42, 0x41, \n",
    "        0xc0, 0xc3, 0xc6, 0xc5, 0xcc, 0xcf, 0xca, 0xc9, 0xd8, 0xdb, 0xde, 0xdd, 0xd4, 0xd7, 0xd2, 0xd1, \n",
    "        0xf0, 0xf3, 0xf6, 0xf5, 0xfc, 0xff, 0xfa, 0xf9, 0xe8, 0xeb, 0xee, 0xed, 0xe4, 0xe7, 0xe2, 0xe1, \n",
    "        0xa0, 0xa3, 0xa6, 0xa5, 0xac, 0xaf, 0xaa, 0xa9, 0xb8, 0xbb, 0xbe, 0xbd, 0xb4, 0xb7, 0xb2, 0xb1, \n",
    "        0x90, 0x93, 0x96, 0x95, 0x9c, 0x9f, 0x9a, 0x99, 0x88, 0x8b, 0x8e, 0x8d, 0x84, 0x87, 0x82, 0x81, \n",
    "        0x9b, 0x98, 0x9d, 0x9e, 0x97, 0x94, 0x91, 0x92, 0x83, 0x80, 0x85, 0x86, 0x8f, 0x8c, 0x89, 0x8a, \n",
    "        0xab, 0xa8, 0xad, 0xae, 0xa7, 0xa4, 0xa1, 0xa2, 0xb3, 0xb0, 0xb5, 0xb6, 0xbf, 0xbc, 0xb9, 0xba, \n",
    "        0xfb, 0xf8, 0xfd, 0xfe, 0xf7, 0xf4, 0xf1, 0xf2, 0xe3, 0xe0, 0xe5, 0xe6, 0xef, 0xec, 0xe9, 0xea, \n",
    "        0xcb, 0xc8, 0xcd, 0xce, 0xc7, 0xc4, 0xc1, 0xc2, 0xd3, 0xd0, 0xd5, 0xd6, 0xdf, 0xdc, 0xd9, 0xda, \n",
    "        0x5b, 0x58, 0x5d, 0x5e, 0x57, 0x54, 0x51, 0x52, 0x43, 0x40, 0x45, 0x46, 0x4f, 0x4c, 0x49, 0x4a, \n",
    "        0x6b, 0x68, 0x6d, 0x6e, 0x67, 0x64, 0x61, 0x62, 0x73, 0x70, 0x75, 0x76, 0x7f, 0x7c, 0x79, 0x7a, \n",
    "        0x3b, 0x38, 0x3d, 0x3e, 0x37, 0x34, 0x31, 0x32, 0x23, 0x20, 0x25, 0x26, 0x2f, 0x2c, 0x29, 0x2a, \n",
    "        0x0b, 0x08, 0x0d, 0x0e, 0x07, 0x04, 0x01, 0x02, 0x13, 0x10, 0x15, 0x16, 0x1f, 0x1c, 0x19, 0x1a\n",
    "    )\n",
    "\n",
    "    def __init__(self, key):\n",
    "        self._block_size = 16\n",
    "        self._round_keys = self._expand_key(list(key))\n",
    "        self._state = []\n",
    "\n",
    "    def _transpose(self, m):\n",
    "        return [m[4 * j + i] for i in range(4) for j in range(4)]\n",
    "\n",
    "    def _xor(self, a, b):\n",
    "        return [x ^ y for x, y in zip(a, b)]\n",
    "\n",
    "    def _expand_key(self, key):\n",
    "        round_keys = [key]\n",
    "        for i in range(10):\n",
    "            round_key = []\n",
    "            first = round_keys[i][:4]\n",
    "            last = round_keys[i][-4:]\n",
    "            last = last[1:] + [last[0]]\n",
    "            last = [self.sbox[i] for i in last]\n",
    "            round_key.extend(self._xor(self._xor(first, last), [self.rcon[i+1], 0, 0, 0]))\n",
    "            for j in range(0, 12, 4):\n",
    "                round_key.extend(self._xor(round_key[j:j + 4], round_keys[i][j + 4:j + 8]))\n",
    "            round_keys.append(round_key)\n",
    "        for i in range(len(round_keys)):\n",
    "            round_keys[i] = self._transpose(round_keys[i])\n",
    "        return round_keys\n",
    "\n",
    "    def _add_round_key(self, i):\n",
    "        self._state = self._xor(self._round_keys[i], self._state)\n",
    "\n",
    "    def _mix_columns(self):\n",
    "        s = [0] * self._block_size\n",
    "        for i in range(4):\n",
    "            s[i]       = self.gmul2[self._state[i]] ^ self.gmul3[self._state[i + 4]] ^ self._state[i + 8] ^ self._state[i + 12]\n",
    "            s[i + 4]   = self._state[i] ^ self.gmul2[self._state[i + 4]] ^ self.gmul3[self._state[i + 8]] ^ self._state[i + 12]\n",
    "            s[i + 8]   = self._state[i] ^ self._state[i + 4] ^ self.gmul2[self._state[i + 8]] ^ self.gmul3[self._state[i + 12]]\n",
    "            s[i + 12]  = self.gmul3[self._state[i]] ^ self._state[i + 4] ^ self._state[i + 8] ^ self.gmul2[self._state[i + 12]]\n",
    "        self._state = s\n",
    "\n",
    "    def _shift_rows(self):\n",
    "        self._state = [\n",
    "            self._state[0], self._state[1], self._state[2], self._state[3],\n",
    "            self._state[5], self._state[6], self._state[7], self._state[4],\n",
    "            self._state[10], self._state[11], self._state[8], self._state[9],\n",
    "            self._state[15], self._state[12], self._state[13], self._state[14]\n",
    "        ]\n",
    "\n",
    "    def _sub_bytes(self):\n",
    "        self._state = [self.sbox[i] for i in self._state]\n",
    "\n",
    "    def _encrypt_block(self):\n",
    "        self._add_round_key(0)\n",
    "        for i in range(1, 10):\n",
    "            self._sub_bytes()\n",
    "            self._shift_rows()\n",
    "            self._mix_columns()\n",
    "            self._add_round_key(i)\n",
    "        self._sub_bytes()\n",
    "        self._shift_rows()\n",
    "        self._add_round_key(10)\n",
    "\n",
    "    def encrypt(self, plaintext):\n",
    "        ciphertext = b''\n",
    "        self._state = self._transpose(list(plaintext))\n",
    "        self._encrypt_block()\n",
    "        ciphertext += bytes(self._transpose(self._state))\n",
    "        return ciphertext\n",
    "\n",
    "def bytes_to_int_list(b):\n",
    "    return [x for x in b]\n",
    "\n",
    "def xor_bytes(b1, b2):\n",
    "    return bytes(a ^ b for a, b in zip(b1, b2))\n",
    "\n",
    "def main():\n",
    "    host = \"socket.cryptohack.org\"\n",
    "    port = 13406\n",
    "    r = remote(host, port)\n",
    "    welcome = r.recvline().decode().strip()\n",
    "    print(\"[*] Welcome message:\")\n",
    "    print(welcome)\n",
    "    plaintext_hex = \"00\" * 16\n",
    "    query = {\"option\": \"encrypt_message\", \"message\": plaintext_hex}\n",
    "    r.sendline(json.dumps(query).encode())\n",
    "    response = r.recvline().decode().strip()\n",
    "    print(\"[*] Response from encrypt_message:\")\n",
    "    print(response)\n",
    "    try:\n",
    "        resp_json = json.loads(response)\n",
    "    except Exception as e:\n",
    "        print(\"[-] Failed to parse JSON response:\", e)\n",
    "        sys.exit(1)\n",
    "    if \"error\" in resp_json:\n",
    "        print(\"[-] Error:\", resp_json[\"error\"])\n",
    "        sys.exit(1)\n",
    "    remote_B_hex = resp_json[\"encrypted_message\"]\n",
    "    remote_B = bytes.fromhex(remote_B_hex)\n",
    "    print(\"[*] Remote B (AES(0) from server):\", remote_B_hex)\n",
    "    query_flag = {\"option\": \"encrypt_flag\"}\n",
    "    r.sendline(json.dumps(query_flag).encode())\n",
    "    flag_response = r.recvline().decode().strip()\n",
    "    print(\"[*] Response from encrypt_flag:\")\n",
    "    print(flag_response)\n",
    "    try:\n",
    "        flag_json = json.loads(flag_response)\n",
    "    except Exception as e:\n",
    "        print(\"[-] Failed to parse flag JSON:\", e)\n",
    "        sys.exit(1)\n",
    "    encrypted_flag_hex = flag_json[\"encrypted_flag\"]\n",
    "    encrypted_flag = bytes.fromhex(encrypted_flag_hex)\n",
    "    print(\"[*] Encrypted flag (hex):\", encrypted_flag_hex)\n",
    "    r.close()\n",
    "    dummy_key = b\"\\x00\" * 16\n",
    "    aes_local = AES(dummy_key)\n",
    "    B_dummy = aes_local.encrypt(b\"\\x00\" * 16)\n",
    "    A_matrix = [[0]*16 for _ in range(16)]\n",
    "    for i in range(16):\n",
    "        basis = bytearray(16)\n",
    "        basis[i] = 1\n",
    "        enc_basis = aes_local.encrypt(bytes(basis))\n",
    "        col = xor_bytes(enc_basis, B_dummy)\n",
    "        for row in range(16):\n",
    "            A_matrix[row][i] = col[row]\n",
    "    print(\"[*] Recovered matrix A (local simulation):\")\n",
    "    for row in A_matrix:\n",
    "        print(\" \".join(f\"{x:02x}\" for x in row))\n",
    "    try:\n",
    "        A_inv = gf256_matrix_inverse(A_matrix)\n",
    "    except Exception as e:\n",
    "        print(\"[-] Failed to invert A:\", e)\n",
    "        sys.exit(1)\n",
    "    print(\"[*] Inverted matrix A_inv:\")\n",
    "    for row in A_inv:\n",
    "        print(\" \".join(f\"{x:02x}\" for x in row))\n",
    "    flag_bytes = b\"\"\n",
    "    for i in range(0, len(encrypted_flag), 16):\n",
    "        block = encrypted_flag[i:i+16]\n",
    "        xored = bytes(a ^ b for a, b in zip(block, remote_B))\n",
    "        xored_vec = list(xored)\n",
    "        plain_vec = gf256_matvec_mul(A_inv, xored_vec)\n",
    "        flag_bytes += bytes(plain_vec)\n",
    "    pad = flag_bytes[-1]\n",
    "    if all(b == pad for b in flag_bytes[-pad:]):\n",
    "        flag_bytes = flag_bytes[:-pad]\n",
    "    print(\"[*] Decrypted flag:\")\n",
    "    print(flag_bytes.decode())\n",
    "\n",
    "if __name__ == \"__main__\":\n",
    "    main()\n",
    "\n"
   ]
  }
 ],
 "metadata": {
  "kernelspec": {
   "display_name": "Python 3",
   "language": "python",
   "name": "python3"
  },
  "language_info": {
   "codemirror_mode": {
    "name": "ipython",
    "version": 3
   },
   "file_extension": ".py",
   "mimetype": "text/x-python",
   "name": "python",
   "nbconvert_exporter": "python",
   "pygments_lexer": "ipython3",
   "version": "3.13.1"
  }
 },
 "nbformat": 4,
 "nbformat_minor": 5
}
