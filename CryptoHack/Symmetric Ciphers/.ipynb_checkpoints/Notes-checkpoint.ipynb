{
 "cells": [
  {
   "cell_type": "markdown",
   "id": "3735bd14-ceb0-4a0a-aeb0-bdd1f08f1510",
   "metadata": {
    "editable": true,
    "slideshow": {
     "slide_type": ""
    },
    "tags": []
   },
   "source": [
    "# Introduction"
   ]
  },
  {
   "cell_type": "markdown",
   "id": "879e146d-aef8-43d4-a339-17c323269c2e",
   "metadata": {},
   "source": [
    "## Challenges"
   ]
  },
  {
   "cell_type": "markdown",
   "id": "2dacea27-8e87-4ab1-a4c6-beb00368e213",
   "metadata": {},
   "source": [
    "### Finding Flags"
   ]
  },
  {
   "cell_type": "markdown",
   "id": "ec8fa87f-754f-4069-8030-dc5e0ab07d3d",
   "metadata": {},
   "source": [
    "crypto{y0ur_f1rst_fl4g}"
   ]
  },
  {
   "cell_type": "markdown",
   "id": "d78f85d1",
   "metadata": {},
   "source": [
    "### Great Snakes"
   ]
  },
  {
   "cell_type": "code",
   "execution_count": 1,
   "id": "00d6a45c",
   "metadata": {},
   "outputs": [
    {
     "name": "stdout",
     "output_type": "stream",
     "text": [
      "crypto{z3n_0f_pyth0n}\n"
     ]
    }
   ],
   "source": [
    "import sys\n",
    "\n",
    "ords = [81, 64, 75, 66, 70, 93, 73, 72, 1, 92, 109, 2, 84, 109, 66, 75, 70, 90, 2, 92, 79]\n",
    "print(\"\".join(chr(o ^ 0x32) for o in ords))"
   ]
  },
  {
   "cell_type": "markdown",
   "id": "946b7eaa",
   "metadata": {},
   "source": [
    "###  Network Attacks"
   ]
  },
  {
   "cell_type": "code",
   "execution_count": 3,
   "id": "0e1687c4",
   "metadata": {},
   "outputs": [
    {
     "name": "stdout",
     "output_type": "stream",
     "text": [
      "[x] Opening connection to socket.cryptohack.org on port 11112\n",
      "[x] Opening connection to socket.cryptohack.org on port 11112: Trying 134.122.111.232\n",
      "[+] Opening connection to socket.cryptohack.org on port 11112: Done\n",
      "b\"Welcome to netcat's flag shop!\\n\"\n",
      "b'What would you like to buy?\\n'\n",
      "b\"I only speak JSON, I hope that's ok.\\n\"\n",
      "b'\\n'\n",
      "{'flag': 'crypto{sh0pp1ng_f0r_fl4g5}'}\n"
     ]
    }
   ],
   "source": [
    "from pwn import *\n",
    "import json\n",
    "\n",
    "r = remote(\"socket.cryptohack.org\", 11112)\n",
    "\n",
    "def json_recv():\n",
    "    line = r.readline()\n",
    "    return json.loads(line.decode())\n",
    "\n",
    "def json_send(hsh):\n",
    "    request = json.dumps(hsh).encode()\n",
    "    r.sendline(request)\n",
    "\n",
    "print(r.readline())\n",
    "print(r.readline())\n",
    "print(r.readline())\n",
    "print(r.readline())\n",
    "request = { \"buy\": \"flag\" }\n",
    "json_send(request)\n",
    "response = json_recv()\n",
    "print(response)"
   ]
  }
 ],
 "metadata": {
  "kernelspec": {
   "display_name": "Python 3",
   "language": "python",
   "name": "python3"
  },
  "language_info": {
   "codemirror_mode": {
    "name": "ipython",
    "version": 3
   },
   "file_extension": ".py",
   "mimetype": "text/x-python",
   "name": "python",
   "nbconvert_exporter": "python",
   "pygments_lexer": "ipython3",
   "version": "3.13.1"
  }
 },
 "nbformat": 4,
 "nbformat_minor": 5
}
